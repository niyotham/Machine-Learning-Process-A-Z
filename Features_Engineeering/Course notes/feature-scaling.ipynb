{
 "cells": [
  {
   "cell_type": "code",
   "execution_count": 28,
   "metadata": {
    "execution": {
     "iopub.execute_input": "2022-10-13T01:11:23.077391Z",
     "iopub.status.busy": "2022-10-13T01:11:23.076983Z",
     "iopub.status.idle": "2022-10-13T01:11:23.096669Z",
     "shell.execute_reply": "2022-10-13T01:11:23.095461Z",
     "shell.execute_reply.started": "2022-10-13T01:11:23.077360Z"
    }
   },
   "outputs": [],
   "source": [
    "import numpy as np # linear algebra\n",
    "import pandas as pd # data processing, CSV file I/O (e.g. pd.read_csv)\n",
    "import matplotlib.pyplot as plt\n",
    "import seaborn as sns"
   ]
  },
  {
   "cell_type": "markdown",
   "metadata": {},
   "source": [
    "# Feature Engineering for Continuous Variables \n",
    "In this notebook we will cover scaling, transformations, and interactive features. This notebook is the This is a companion workbook for the 365 Data Science course on ML Process. The in-depth explanantions theories and pros/cons for each of these techniques can be found there. \n",
    "\n",
    "## Feature Scaling\n",
    "Feature scaling is important for we are using models with a distance metric. If our features are of different scales, they can be overcompensated for in the models. \n",
    "- Absolute Max Scaling\n",
    "- MinMax Scaling\n",
    "- Z-Score Normalization (Standard Scaler)\n",
    "- Robust Scaler \n",
    "## Transformations \n",
    "- Logarithmic \n",
    "- Square Root \n",
    "- Exponential\n",
    "- Box-Cox\n",
    "## Interaction Features\n",
    "- Arithmetic Interaction\n",
    "- Binning\n",
    "- Creative Features \n",
    "\n"
   ]
  },
  {
   "cell_type": "code",
   "execution_count": 119,
   "metadata": {
    "execution": {
     "iopub.execute_input": "2022-10-13T01:11:23.218961Z",
     "iopub.status.busy": "2022-10-13T01:11:23.218066Z",
     "iopub.status.idle": "2022-10-13T01:12:04.901892Z",
     "shell.execute_reply": "2022-10-13T01:12:04.900665Z",
     "shell.execute_reply.started": "2022-10-13T01:11:23.218911Z"
    }
   },
   "outputs": [],
   "source": [
    "df = pd.read_csv('vehicles.csv')\n",
    "\n",
    "#let's add a column for car age that will help us later on: \n",
    "df['car_age'] = df['year'].max() - df['year']"
   ]
  },
  {
   "cell_type": "code",
   "execution_count": 63,
   "metadata": {
    "execution": {
     "iopub.execute_input": "2022-10-13T01:12:04.904211Z",
     "iopub.status.busy": "2022-10-13T01:12:04.903672Z",
     "iopub.status.idle": "2022-10-13T01:12:04.914970Z",
     "shell.execute_reply": "2022-10-13T01:12:04.913569Z",
     "shell.execute_reply.started": "2022-10-13T01:12:04.904177Z"
    }
   },
   "outputs": [
    {
     "data": {
      "text/plain": [
       "Index(['id', 'url', 'region', 'region_url', 'price', 'year', 'manufacturer',\n",
       "       'model', 'condition', 'cylinders', 'fuel', 'odometer', 'title_status',\n",
       "       'transmission', 'VIN', 'drive', 'size', 'type', 'paint_color',\n",
       "       'image_url', 'description', 'county', 'state', 'lat', 'long',\n",
       "       'posting_date', 'car_age'],\n",
       "      dtype='object')"
      ]
     },
     "execution_count": 63,
     "metadata": {},
     "output_type": "execute_result"
    }
   ],
   "source": [
    "df.columns"
   ]
  },
  {
   "cell_type": "code",
   "execution_count": 64,
   "metadata": {
    "execution": {
     "iopub.execute_input": "2022-10-13T01:12:04.916815Z",
     "iopub.status.busy": "2022-10-13T01:12:04.916360Z",
     "iopub.status.idle": "2022-10-13T01:12:05.147734Z",
     "shell.execute_reply": "2022-10-13T01:12:05.146459Z",
     "shell.execute_reply.started": "2022-10-13T01:12:04.916784Z"
    }
   },
   "outputs": [
    {
     "data": {
      "text/html": [
       "<div>\n",
       "<style scoped>\n",
       "    .dataframe tbody tr th:only-of-type {\n",
       "        vertical-align: middle;\n",
       "    }\n",
       "\n",
       "    .dataframe tbody tr th {\n",
       "        vertical-align: top;\n",
       "    }\n",
       "\n",
       "    .dataframe thead th {\n",
       "        text-align: right;\n",
       "    }\n",
       "</style>\n",
       "<table border=\"1\" class=\"dataframe\">\n",
       "  <thead>\n",
       "    <tr style=\"text-align: right;\">\n",
       "      <th></th>\n",
       "      <th>id</th>\n",
       "      <th>price</th>\n",
       "      <th>year</th>\n",
       "      <th>odometer</th>\n",
       "      <th>county</th>\n",
       "      <th>lat</th>\n",
       "      <th>long</th>\n",
       "      <th>car_age</th>\n",
       "    </tr>\n",
       "  </thead>\n",
       "  <tbody>\n",
       "    <tr>\n",
       "      <th>count</th>\n",
       "      <td>4.268800e+05</td>\n",
       "      <td>4.268800e+05</td>\n",
       "      <td>425675.000000</td>\n",
       "      <td>4.224800e+05</td>\n",
       "      <td>0.0</td>\n",
       "      <td>420331.000000</td>\n",
       "      <td>420331.000000</td>\n",
       "      <td>425675.000000</td>\n",
       "    </tr>\n",
       "    <tr>\n",
       "      <th>mean</th>\n",
       "      <td>7.311487e+09</td>\n",
       "      <td>7.519903e+04</td>\n",
       "      <td>2011.235191</td>\n",
       "      <td>9.804333e+04</td>\n",
       "      <td>NaN</td>\n",
       "      <td>38.493940</td>\n",
       "      <td>-94.748599</td>\n",
       "      <td>10.764809</td>\n",
       "    </tr>\n",
       "    <tr>\n",
       "      <th>std</th>\n",
       "      <td>4.473170e+06</td>\n",
       "      <td>1.218228e+07</td>\n",
       "      <td>9.452120</td>\n",
       "      <td>2.138815e+05</td>\n",
       "      <td>NaN</td>\n",
       "      <td>5.841533</td>\n",
       "      <td>18.365462</td>\n",
       "      <td>9.452120</td>\n",
       "    </tr>\n",
       "    <tr>\n",
       "      <th>min</th>\n",
       "      <td>7.207408e+09</td>\n",
       "      <td>0.000000e+00</td>\n",
       "      <td>1900.000000</td>\n",
       "      <td>0.000000e+00</td>\n",
       "      <td>NaN</td>\n",
       "      <td>-84.122245</td>\n",
       "      <td>-159.827728</td>\n",
       "      <td>0.000000</td>\n",
       "    </tr>\n",
       "    <tr>\n",
       "      <th>25%</th>\n",
       "      <td>7.308143e+09</td>\n",
       "      <td>5.900000e+03</td>\n",
       "      <td>2008.000000</td>\n",
       "      <td>3.770400e+04</td>\n",
       "      <td>NaN</td>\n",
       "      <td>34.601900</td>\n",
       "      <td>-111.939847</td>\n",
       "      <td>5.000000</td>\n",
       "    </tr>\n",
       "    <tr>\n",
       "      <th>50%</th>\n",
       "      <td>7.312621e+09</td>\n",
       "      <td>1.395000e+04</td>\n",
       "      <td>2013.000000</td>\n",
       "      <td>8.554800e+04</td>\n",
       "      <td>NaN</td>\n",
       "      <td>39.150100</td>\n",
       "      <td>-88.432600</td>\n",
       "      <td>9.000000</td>\n",
       "    </tr>\n",
       "    <tr>\n",
       "      <th>75%</th>\n",
       "      <td>7.315254e+09</td>\n",
       "      <td>2.648575e+04</td>\n",
       "      <td>2017.000000</td>\n",
       "      <td>1.335425e+05</td>\n",
       "      <td>NaN</td>\n",
       "      <td>42.398900</td>\n",
       "      <td>-80.832039</td>\n",
       "      <td>14.000000</td>\n",
       "    </tr>\n",
       "    <tr>\n",
       "      <th>max</th>\n",
       "      <td>7.317101e+09</td>\n",
       "      <td>3.736929e+09</td>\n",
       "      <td>2022.000000</td>\n",
       "      <td>1.000000e+07</td>\n",
       "      <td>NaN</td>\n",
       "      <td>82.390818</td>\n",
       "      <td>173.885502</td>\n",
       "      <td>122.000000</td>\n",
       "    </tr>\n",
       "  </tbody>\n",
       "</table>\n",
       "</div>"
      ],
      "text/plain": [
       "                 id         price           year      odometer  county  \\\n",
       "count  4.268800e+05  4.268800e+05  425675.000000  4.224800e+05     0.0   \n",
       "mean   7.311487e+09  7.519903e+04    2011.235191  9.804333e+04     NaN   \n",
       "std    4.473170e+06  1.218228e+07       9.452120  2.138815e+05     NaN   \n",
       "min    7.207408e+09  0.000000e+00    1900.000000  0.000000e+00     NaN   \n",
       "25%    7.308143e+09  5.900000e+03    2008.000000  3.770400e+04     NaN   \n",
       "50%    7.312621e+09  1.395000e+04    2013.000000  8.554800e+04     NaN   \n",
       "75%    7.315254e+09  2.648575e+04    2017.000000  1.335425e+05     NaN   \n",
       "max    7.317101e+09  3.736929e+09    2022.000000  1.000000e+07     NaN   \n",
       "\n",
       "                 lat           long        car_age  \n",
       "count  420331.000000  420331.000000  425675.000000  \n",
       "mean       38.493940     -94.748599      10.764809  \n",
       "std         5.841533      18.365462       9.452120  \n",
       "min       -84.122245    -159.827728       0.000000  \n",
       "25%        34.601900    -111.939847       5.000000  \n",
       "50%        39.150100     -88.432600       9.000000  \n",
       "75%        42.398900     -80.832039      14.000000  \n",
       "max        82.390818     173.885502     122.000000  "
      ]
     },
     "execution_count": 64,
     "metadata": {},
     "output_type": "execute_result"
    }
   ],
   "source": [
    "df.describe()\n",
    "# Columns we may want to normalize \n",
    "# Price, Year, Odometer"
   ]
  },
  {
   "cell_type": "code",
   "execution_count": 65,
   "metadata": {
    "execution": {
     "iopub.execute_input": "2022-10-13T01:12:05.152001Z",
     "iopub.status.busy": "2022-10-13T01:12:05.150948Z",
     "iopub.status.idle": "2022-10-13T01:12:05.347368Z",
     "shell.execute_reply": "2022-10-13T01:12:05.346072Z",
     "shell.execute_reply.started": "2022-10-13T01:12:05.151952Z"
    }
   },
   "outputs": [],
   "source": [
    "#let's just use a few features to create an example model and remove Nulls. Learn mnore about different imputation techniques in this other companion notebook. \n",
    "#pd.get_dummie() creates dummy variables for the categorical features (see this notebook for more on that)\n",
    "df_example = pd.get_dummies(df.loc[:,['price','car_age','odometer','manufacturer','condition']].dropna())\n"
   ]
  },
  {
   "cell_type": "code",
   "execution_count": 96,
   "metadata": {},
   "outputs": [],
   "source": []
  },
  {
   "cell_type": "code",
   "execution_count": 97,
   "metadata": {
    "execution": {
     "iopub.execute_input": "2022-10-13T01:12:05.349305Z",
     "iopub.status.busy": "2022-10-13T01:12:05.348852Z",
     "iopub.status.idle": "2022-10-13T01:12:05.540343Z",
     "shell.execute_reply": "2022-10-13T01:12:05.539055Z",
     "shell.execute_reply.started": "2022-10-13T01:12:05.349270Z"
    }
   },
   "outputs": [],
   "source": [
    "from sklearn.model_selection import train_test_split\n",
    "\n",
    "X = df_example.drop('price',axis =1 )\n",
    "y = df_example[['price']]\n",
    "\n",
    "X_train, X_test, y_train, y_test = train_test_split(X, y, test_size=0.2, random_state=42)"
   ]
  },
  {
   "cell_type": "code",
   "execution_count": 8,
   "metadata": {
    "execution": {
     "iopub.execute_input": "2022-10-13T01:12:05.542514Z",
     "iopub.status.busy": "2022-10-13T01:12:05.542146Z",
     "iopub.status.idle": "2022-10-13T01:12:05.785729Z",
     "shell.execute_reply": "2022-10-13T01:12:05.784339Z",
     "shell.execute_reply.started": "2022-10-13T01:12:05.542477Z"
    }
   },
   "outputs": [
    {
     "data": {
      "text/plain": [
       "<AxesSubplot:>"
      ]
     },
     "execution_count": 8,
     "metadata": {},
     "output_type": "execute_result"
    },
    {
     "data": {
      "image/png": "[encoded data removed]",
      "text/plain": [
       "<Figure size 432x288 with 1 Axes>"
      ]
     },
     "metadata": {
      "needs_background": "light"
     },
     "output_type": "display_data"
    }
   ],
   "source": [
    "df.price.plot.box()"
   ]
  },
  {
   "cell_type": "code",
   "execution_count": 9,
   "metadata": {
    "execution": {
     "iopub.execute_input": "2022-10-13T01:12:05.788388Z",
     "iopub.status.busy": "2022-10-13T01:12:05.787331Z",
     "iopub.status.idle": "2022-10-13T01:12:05.977220Z",
     "shell.execute_reply": "2022-10-13T01:12:05.976288Z",
     "shell.execute_reply.started": "2022-10-13T01:12:05.788339Z"
    }
   },
   "outputs": [
    {
     "data": {
      "text/plain": [
       "<AxesSubplot:>"
      ]
     },
     "execution_count": 9,
     "metadata": {},
     "output_type": "execute_result"
    },
    {
     "data": {
      "image/png": "[encoded data removed]",
      "text/plain": [
       "<Figure size 432x288 with 1 Axes>"
      ]
     },
     "metadata": {
      "needs_background": "light"
     },
     "output_type": "display_data"
    }
   ],
   "source": [
    "#df.price.plot.box()\n",
    "df.car_age.plot.box()\n",
    "#df.odometer.plot.box()"
   ]
  },
  {
   "cell_type": "code",
   "execution_count": 10,
   "metadata": {
    "execution": {
     "iopub.execute_input": "2022-10-13T01:12:05.979213Z",
     "iopub.status.busy": "2022-10-13T01:12:05.978710Z",
     "iopub.status.idle": "2022-10-13T01:12:06.144509Z",
     "shell.execute_reply": "2022-10-13T01:12:06.143211Z",
     "shell.execute_reply.started": "2022-10-13T01:12:05.979166Z"
    }
   },
   "outputs": [
    {
     "data": {
      "text/plain": [
       "<AxesSubplot:>"
      ]
     },
     "execution_count": 10,
     "metadata": {},
     "output_type": "execute_result"
    },
    {
     "data": {
      "image/png": "[encoded data removed]",
      "text/plain": [
       "<Figure size 432x288 with 1 Axes>"
      ]
     },
     "metadata": {
      "needs_background": "light"
     },
     "output_type": "display_data"
    }
   ],
   "source": [
    "df.odometer.plot.box()"
   ]
  },
  {
   "cell_type": "markdown",
   "metadata": {},
   "source": [
    "# Feature Scaling\n",
    "Feature scaling is important for we are using models with a distance metric. If our features are of different scales, they can be overcompensated for in the models. \n",
    "- Absolute Max Scaling\n",
    "- MinMax Scaling\n",
    "- Z-Score Normalization (Standard Scaler)\n",
    "- Robust Scaler \n"
   ]
  },
  {
   "cell_type": "markdown",
   "metadata": {},
   "source": [
    "## Absolute Maximum Scaling\n",
    "Absolute maximum scaling will have you take the maximum value within the data and then divide the raw data by this absolute maximum value.\n",
    "\n",
    "For absolute max scaling, this works best if our data doesn't have massive outliers. In this case, we would likely want to remove outliers from price and odometer. This also keeps the same distribution of the data. For absolute maximum scaling, let's do this on the year data for the cars. "
   ]
  },
  {
   "cell_type": "code",
   "execution_count": 11,
   "metadata": {
    "execution": {
     "iopub.execute_input": "2022-10-13T01:12:06.147137Z",
     "iopub.status.busy": "2022-10-13T01:12:06.146522Z",
     "iopub.status.idle": "2022-10-13T01:12:06.298281Z",
     "shell.execute_reply": "2022-10-13T01:12:06.297102Z",
     "shell.execute_reply.started": "2022-10-13T01:12:06.147075Z"
    }
   },
   "outputs": [],
   "source": [
    "from sklearn.preprocessing import MaxAbsScaler\n",
    "\n",
    "#Scale data \n",
    "df_am = MaxAbsScaler().fit_transform(X_train)\n",
    "\n",
    "#convert to dataframe to see table\n",
    "df_am = pd.DataFrame(df_am, columns = X_train.columns)\n",
    "\n",
    "#obvious problems with outliers regarding price & odometer "
   ]
  },
  {
   "cell_type": "markdown",
   "metadata": {},
   "source": [
    "# Min Max Scaling\n",
    "Another simple form of scaling is called min max. Min Max scaling will scale all our data points between 0 and 1. We’d use the following formula to scale our data, where we subtract the min from the raw data and then divide it by the max minus the min. \n",
    "\n",
    "Again, this approach is not robust to outliers."
   ]
  },
  {
   "cell_type": "code",
   "execution_count": 13,
   "metadata": {
    "execution": {
     "iopub.execute_input": "2022-10-13T01:12:06.304230Z",
     "iopub.status.busy": "2022-10-13T01:12:06.303795Z",
     "iopub.status.idle": "2022-10-13T01:12:06.446461Z",
     "shell.execute_reply": "2022-10-13T01:12:06.445296Z",
     "shell.execute_reply.started": "2022-10-13T01:12:06.304192Z"
    }
   },
   "outputs": [],
   "source": [
    "from sklearn.preprocessing import MinMaxScaler\n",
    "df_min_max = MinMaxScaler().fit_transform(X_train)\n",
    "df_min_max = pd.DataFrame(df_min_max, columns = X_train.columns)"
   ]
  },
  {
   "cell_type": "markdown",
   "metadata": {},
   "source": [
    "# Z Score Normalization (Standard Scaling)\n",
    "\n",
    "Another approach is standardization which transforms the data into the z-score, where the mean is zero and the standard deviation is 1.\n",
    "\n",
    "This approach is more robust to outliers, but still can have issues if outliers cause massive changes to standard deviation. However, this does assume a normal distribution which is inaccurate for some of our data (Year)."
   ]
  },
  {
   "cell_type": "code",
   "execution_count": 14,
   "metadata": {
    "execution": {
     "iopub.execute_input": "2022-10-13T01:12:06.448522Z",
     "iopub.status.busy": "2022-10-13T01:12:06.448032Z",
     "iopub.status.idle": "2022-10-13T01:12:06.565121Z",
     "shell.execute_reply": "2022-10-13T01:12:06.564074Z",
     "shell.execute_reply.started": "2022-10-13T01:12:06.448475Z"
    }
   },
   "outputs": [
    {
     "data": {
      "text/html": [
       "<div>\n",
       "<style scoped>\n",
       "    .dataframe tbody tr th:only-of-type {\n",
       "        vertical-align: middle;\n",
       "    }\n",
       "\n",
       "    .dataframe tbody tr th {\n",
       "        vertical-align: top;\n",
       "    }\n",
       "\n",
       "    .dataframe thead th {\n",
       "        text-align: right;\n",
       "    }\n",
       "</style>\n",
       "<table border=\"1\" class=\"dataframe\">\n",
       "  <thead>\n",
       "    <tr style=\"text-align: right;\">\n",
       "      <th></th>\n",
       "      <th>car_age</th>\n",
       "      <th>odometer</th>\n",
       "      <th>manufacturer_acura</th>\n",
       "      <th>manufacturer_alfa-romeo</th>\n",
       "      <th>manufacturer_aston-martin</th>\n",
       "      <th>manufacturer_audi</th>\n",
       "      <th>manufacturer_bmw</th>\n",
       "      <th>manufacturer_buick</th>\n",
       "      <th>manufacturer_cadillac</th>\n",
       "      <th>manufacturer_chevrolet</th>\n",
       "      <th>...</th>\n",
       "      <th>manufacturer_tesla</th>\n",
       "      <th>manufacturer_toyota</th>\n",
       "      <th>manufacturer_volkswagen</th>\n",
       "      <th>manufacturer_volvo</th>\n",
       "      <th>condition_excellent</th>\n",
       "      <th>condition_fair</th>\n",
       "      <th>condition_good</th>\n",
       "      <th>condition_like new</th>\n",
       "      <th>condition_new</th>\n",
       "      <th>condition_salvage</th>\n",
       "    </tr>\n",
       "  </thead>\n",
       "  <tbody>\n",
       "    <tr>\n",
       "      <th>200340</th>\n",
       "      <td>-0.317319</td>\n",
       "      <td>-0.003322</td>\n",
       "      <td>0</td>\n",
       "      <td>0</td>\n",
       "      <td>0</td>\n",
       "      <td>0</td>\n",
       "      <td>0</td>\n",
       "      <td>1</td>\n",
       "      <td>0</td>\n",
       "      <td>0</td>\n",
       "      <td>...</td>\n",
       "      <td>0</td>\n",
       "      <td>0</td>\n",
       "      <td>0</td>\n",
       "      <td>0</td>\n",
       "      <td>1</td>\n",
       "      <td>0</td>\n",
       "      <td>0</td>\n",
       "      <td>0</td>\n",
       "      <td>0</td>\n",
       "      <td>0</td>\n",
       "    </tr>\n",
       "    <tr>\n",
       "      <th>110895</th>\n",
       "      <td>-0.528033</td>\n",
       "      <td>-0.277807</td>\n",
       "      <td>0</td>\n",
       "      <td>0</td>\n",
       "      <td>0</td>\n",
       "      <td>1</td>\n",
       "      <td>0</td>\n",
       "      <td>0</td>\n",
       "      <td>0</td>\n",
       "      <td>0</td>\n",
       "      <td>...</td>\n",
       "      <td>0</td>\n",
       "      <td>0</td>\n",
       "      <td>0</td>\n",
       "      <td>0</td>\n",
       "      <td>1</td>\n",
       "      <td>0</td>\n",
       "      <td>0</td>\n",
       "      <td>0</td>\n",
       "      <td>0</td>\n",
       "      <td>0</td>\n",
       "    </tr>\n",
       "    <tr>\n",
       "      <th>329804</th>\n",
       "      <td>-0.633390</td>\n",
       "      <td>0.067063</td>\n",
       "      <td>0</td>\n",
       "      <td>0</td>\n",
       "      <td>0</td>\n",
       "      <td>0</td>\n",
       "      <td>0</td>\n",
       "      <td>0</td>\n",
       "      <td>0</td>\n",
       "      <td>0</td>\n",
       "      <td>...</td>\n",
       "      <td>0</td>\n",
       "      <td>0</td>\n",
       "      <td>1</td>\n",
       "      <td>0</td>\n",
       "      <td>1</td>\n",
       "      <td>0</td>\n",
       "      <td>0</td>\n",
       "      <td>0</td>\n",
       "      <td>0</td>\n",
       "      <td>0</td>\n",
       "    </tr>\n",
       "    <tr>\n",
       "      <th>367376</th>\n",
       "      <td>-0.422676</td>\n",
       "      <td>-0.371896</td>\n",
       "      <td>0</td>\n",
       "      <td>0</td>\n",
       "      <td>0</td>\n",
       "      <td>0</td>\n",
       "      <td>0</td>\n",
       "      <td>0</td>\n",
       "      <td>0</td>\n",
       "      <td>0</td>\n",
       "      <td>...</td>\n",
       "      <td>0</td>\n",
       "      <td>0</td>\n",
       "      <td>0</td>\n",
       "      <td>0</td>\n",
       "      <td>1</td>\n",
       "      <td>0</td>\n",
       "      <td>0</td>\n",
       "      <td>0</td>\n",
       "      <td>0</td>\n",
       "      <td>0</td>\n",
       "    </tr>\n",
       "    <tr>\n",
       "      <th>193480</th>\n",
       "      <td>1.789823</td>\n",
       "      <td>0.146898</td>\n",
       "      <td>0</td>\n",
       "      <td>0</td>\n",
       "      <td>0</td>\n",
       "      <td>0</td>\n",
       "      <td>0</td>\n",
       "      <td>0</td>\n",
       "      <td>0</td>\n",
       "      <td>0</td>\n",
       "      <td>...</td>\n",
       "      <td>0</td>\n",
       "      <td>0</td>\n",
       "      <td>0</td>\n",
       "      <td>0</td>\n",
       "      <td>0</td>\n",
       "      <td>0</td>\n",
       "      <td>1</td>\n",
       "      <td>0</td>\n",
       "      <td>0</td>\n",
       "      <td>0</td>\n",
       "    </tr>\n",
       "    <tr>\n",
       "      <th>...</th>\n",
       "      <td>...</td>\n",
       "      <td>...</td>\n",
       "      <td>...</td>\n",
       "      <td>...</td>\n",
       "      <td>...</td>\n",
       "      <td>...</td>\n",
       "      <td>...</td>\n",
       "      <td>...</td>\n",
       "      <td>...</td>\n",
       "      <td>...</td>\n",
       "      <td>...</td>\n",
       "      <td>...</td>\n",
       "      <td>...</td>\n",
       "      <td>...</td>\n",
       "      <td>...</td>\n",
       "      <td>...</td>\n",
       "      <td>...</td>\n",
       "      <td>...</td>\n",
       "      <td>...</td>\n",
       "      <td>...</td>\n",
       "      <td>...</td>\n",
       "    </tr>\n",
       "    <tr>\n",
       "      <th>209252</th>\n",
       "      <td>-0.844104</td>\n",
       "      <td>-0.307973</td>\n",
       "      <td>0</td>\n",
       "      <td>0</td>\n",
       "      <td>0</td>\n",
       "      <td>0</td>\n",
       "      <td>0</td>\n",
       "      <td>0</td>\n",
       "      <td>0</td>\n",
       "      <td>1</td>\n",
       "      <td>...</td>\n",
       "      <td>0</td>\n",
       "      <td>0</td>\n",
       "      <td>0</td>\n",
       "      <td>0</td>\n",
       "      <td>0</td>\n",
       "      <td>0</td>\n",
       "      <td>1</td>\n",
       "      <td>0</td>\n",
       "      <td>0</td>\n",
       "      <td>0</td>\n",
       "    </tr>\n",
       "    <tr>\n",
       "      <th>183285</th>\n",
       "      <td>-0.844104</td>\n",
       "      <td>-0.382076</td>\n",
       "      <td>0</td>\n",
       "      <td>0</td>\n",
       "      <td>0</td>\n",
       "      <td>1</td>\n",
       "      <td>0</td>\n",
       "      <td>0</td>\n",
       "      <td>0</td>\n",
       "      <td>0</td>\n",
       "      <td>...</td>\n",
       "      <td>0</td>\n",
       "      <td>0</td>\n",
       "      <td>0</td>\n",
       "      <td>0</td>\n",
       "      <td>0</td>\n",
       "      <td>0</td>\n",
       "      <td>1</td>\n",
       "      <td>0</td>\n",
       "      <td>0</td>\n",
       "      <td>0</td>\n",
       "    </tr>\n",
       "    <tr>\n",
       "      <th>232490</th>\n",
       "      <td>-0.633390</td>\n",
       "      <td>-0.169595</td>\n",
       "      <td>0</td>\n",
       "      <td>0</td>\n",
       "      <td>0</td>\n",
       "      <td>0</td>\n",
       "      <td>0</td>\n",
       "      <td>0</td>\n",
       "      <td>0</td>\n",
       "      <td>0</td>\n",
       "      <td>...</td>\n",
       "      <td>0</td>\n",
       "      <td>0</td>\n",
       "      <td>0</td>\n",
       "      <td>0</td>\n",
       "      <td>1</td>\n",
       "      <td>0</td>\n",
       "      <td>0</td>\n",
       "      <td>0</td>\n",
       "      <td>0</td>\n",
       "      <td>0</td>\n",
       "    </tr>\n",
       "    <tr>\n",
       "      <th>260830</th>\n",
       "      <td>0.104110</td>\n",
       "      <td>0.340697</td>\n",
       "      <td>0</td>\n",
       "      <td>0</td>\n",
       "      <td>0</td>\n",
       "      <td>0</td>\n",
       "      <td>0</td>\n",
       "      <td>0</td>\n",
       "      <td>0</td>\n",
       "      <td>0</td>\n",
       "      <td>...</td>\n",
       "      <td>0</td>\n",
       "      <td>0</td>\n",
       "      <td>0</td>\n",
       "      <td>0</td>\n",
       "      <td>0</td>\n",
       "      <td>0</td>\n",
       "      <td>1</td>\n",
       "      <td>0</td>\n",
       "      <td>0</td>\n",
       "      <td>0</td>\n",
       "    </tr>\n",
       "    <tr>\n",
       "      <th>213322</th>\n",
       "      <td>-0.317319</td>\n",
       "      <td>-0.049662</td>\n",
       "      <td>0</td>\n",
       "      <td>0</td>\n",
       "      <td>0</td>\n",
       "      <td>0</td>\n",
       "      <td>0</td>\n",
       "      <td>0</td>\n",
       "      <td>0</td>\n",
       "      <td>0</td>\n",
       "      <td>...</td>\n",
       "      <td>0</td>\n",
       "      <td>0</td>\n",
       "      <td>0</td>\n",
       "      <td>0</td>\n",
       "      <td>0</td>\n",
       "      <td>0</td>\n",
       "      <td>0</td>\n",
       "      <td>1</td>\n",
       "      <td>0</td>\n",
       "      <td>0</td>\n",
       "    </tr>\n",
       "  </tbody>\n",
       "</table>\n",
       "<p>192055 rows × 50 columns</p>\n",
       "</div>"
      ],
      "text/plain": [
       "         car_age  odometer  manufacturer_acura  manufacturer_alfa-romeo  \\\n",
       "200340 -0.317319 -0.003322                   0                        0   \n",
       "110895 -0.528033 -0.277807                   0                        0   \n",
       "329804 -0.633390  0.067063                   0                        0   \n",
       "367376 -0.422676 -0.371896                   0                        0   \n",
       "193480  1.789823  0.146898                   0                        0   \n",
       "...          ...       ...                 ...                      ...   \n",
       "209252 -0.844104 -0.307973                   0                        0   \n",
       "183285 -0.844104 -0.382076                   0                        0   \n",
       "232490 -0.633390 -0.169595                   0                        0   \n",
       "260830  0.104110  0.340697                   0                        0   \n",
       "213322 -0.317319 -0.049662                   0                        0   \n",
       "\n",
       "        manufacturer_aston-martin  manufacturer_audi  manufacturer_bmw  \\\n",
       "200340                          0                  0                 0   \n",
       "110895                          0                  1                 0   \n",
       "329804                          0                  0                 0   \n",
       "367376                          0                  0                 0   \n",
       "193480                          0                  0                 0   \n",
       "...                           ...                ...               ...   \n",
       "209252                          0                  0                 0   \n",
       "183285                          0                  1                 0   \n",
       "232490                          0                  0                 0   \n",
       "260830                          0                  0                 0   \n",
       "213322                          0                  0                 0   \n",
       "\n",
       "        manufacturer_buick  manufacturer_cadillac  manufacturer_chevrolet  \\\n",
       "200340                   1                      0                       0   \n",
       "110895                   0                      0                       0   \n",
       "329804                   0                      0                       0   \n",
       "367376                   0                      0                       0   \n",
       "193480                   0                      0                       0   \n",
       "...                    ...                    ...                     ...   \n",
       "209252                   0                      0                       1   \n",
       "183285                   0                      0                       0   \n",
       "232490                   0                      0                       0   \n",
       "260830                   0                      0                       0   \n",
       "213322                   0                      0                       0   \n",
       "\n",
       "        ...  manufacturer_tesla  manufacturer_toyota  manufacturer_volkswagen  \\\n",
       "200340  ...                   0                    0                        0   \n",
       "110895  ...                   0                    0                        0   \n",
       "329804  ...                   0                    0                        1   \n",
       "367376  ...                   0                    0                        0   \n",
       "193480  ...                   0                    0                        0   \n",
       "...     ...                 ...                  ...                      ...   \n",
       "209252  ...                   0                    0                        0   \n",
       "183285  ...                   0                    0                        0   \n",
       "232490  ...                   0                    0                        0   \n",
       "260830  ...                   0                    0                        0   \n",
       "213322  ...                   0                    0                        0   \n",
       "\n",
       "        manufacturer_volvo  condition_excellent  condition_fair  \\\n",
       "200340                   0                    1               0   \n",
       "110895                   0                    1               0   \n",
       "329804                   0                    1               0   \n",
       "367376                   0                    1               0   \n",
       "193480                   0                    0               0   \n",
       "...                    ...                  ...             ...   \n",
       "209252                   0                    0               0   \n",
       "183285                   0                    0               0   \n",
       "232490                   0                    1               0   \n",
       "260830                   0                    0               0   \n",
       "213322                   0                    0               0   \n",
       "\n",
       "        condition_good  condition_like new  condition_new  condition_salvage  \n",
       "200340               0                   0              0                  0  \n",
       "110895               0                   0              0                  0  \n",
       "329804               0                   0              0                  0  \n",
       "367376               0                   0              0                  0  \n",
       "193480               1                   0              0                  0  \n",
       "...                ...                 ...            ...                ...  \n",
       "209252               1                   0              0                  0  \n",
       "183285               1                   0              0                  0  \n",
       "232490               0                   0              0                  0  \n",
       "260830               1                   0              0                  0  \n",
       "213322               0                   1              0                  0  \n",
       "\n",
       "[192055 rows x 50 columns]"
      ]
     },
     "execution_count": 14,
     "metadata": {},
     "output_type": "execute_result"
    }
   ],
   "source": [
    "from sklearn.preprocessing import StandardScaler\n",
    "df_std = X_train.copy()\n",
    "#only scale numeric varaibles in this case rather than the dummy variables for categories \n",
    "df_std.loc[:,['car_age','odometer']] = StandardScaler().fit_transform(df_std.loc[:, ['car_age','odometer']])\n",
    "df_std"
   ]
  },
  {
   "cell_type": "markdown",
   "metadata": {},
   "source": [
    "# Robust Scaler\n",
    "With Robust Scaler, we’re subtracting the median and then scaling the column by the IQR.\n",
    "\n",
    "This is the approach most robust to outliers that we will cover."
   ]
  },
  {
   "cell_type": "code",
   "execution_count": 15,
   "metadata": {
    "execution": {
     "iopub.execute_input": "2022-10-13T01:12:06.567338Z",
     "iopub.status.busy": "2022-10-13T01:12:06.566737Z",
     "iopub.status.idle": "2022-10-13T01:12:06.691230Z",
     "shell.execute_reply": "2022-10-13T01:12:06.690103Z",
     "shell.execute_reply.started": "2022-10-13T01:12:06.567303Z"
    }
   },
   "outputs": [
    {
     "data": {
      "text/html": [
       "<div>\n",
       "<style scoped>\n",
       "    .dataframe tbody tr th:only-of-type {\n",
       "        vertical-align: middle;\n",
       "    }\n",
       "\n",
       "    .dataframe tbody tr th {\n",
       "        vertical-align: top;\n",
       "    }\n",
       "\n",
       "    .dataframe thead th {\n",
       "        text-align: right;\n",
       "    }\n",
       "</style>\n",
       "<table border=\"1\" class=\"dataframe\">\n",
       "  <thead>\n",
       "    <tr style=\"text-align: right;\">\n",
       "      <th></th>\n",
       "      <th>car_age</th>\n",
       "      <th>odometer</th>\n",
       "      <th>manufacturer_acura</th>\n",
       "      <th>manufacturer_alfa-romeo</th>\n",
       "      <th>manufacturer_aston-martin</th>\n",
       "      <th>manufacturer_audi</th>\n",
       "      <th>manufacturer_bmw</th>\n",
       "      <th>manufacturer_buick</th>\n",
       "      <th>manufacturer_cadillac</th>\n",
       "      <th>manufacturer_chevrolet</th>\n",
       "      <th>...</th>\n",
       "      <th>manufacturer_tesla</th>\n",
       "      <th>manufacturer_toyota</th>\n",
       "      <th>manufacturer_volkswagen</th>\n",
       "      <th>manufacturer_volvo</th>\n",
       "      <th>condition_excellent</th>\n",
       "      <th>condition_fair</th>\n",
       "      <th>condition_good</th>\n",
       "      <th>condition_like new</th>\n",
       "      <th>condition_new</th>\n",
       "      <th>condition_salvage</th>\n",
       "    </tr>\n",
       "  </thead>\n",
       "  <tbody>\n",
       "    <tr>\n",
       "      <th>200340</th>\n",
       "      <td>-0.111111</td>\n",
       "      <td>0.114860</td>\n",
       "      <td>0</td>\n",
       "      <td>0</td>\n",
       "      <td>0</td>\n",
       "      <td>0</td>\n",
       "      <td>0</td>\n",
       "      <td>1</td>\n",
       "      <td>0</td>\n",
       "      <td>0</td>\n",
       "      <td>...</td>\n",
       "      <td>0</td>\n",
       "      <td>0</td>\n",
       "      <td>0</td>\n",
       "      <td>0</td>\n",
       "      <td>1</td>\n",
       "      <td>0</td>\n",
       "      <td>0</td>\n",
       "      <td>0</td>\n",
       "      <td>0</td>\n",
       "      <td>0</td>\n",
       "    </tr>\n",
       "    <tr>\n",
       "      <th>110895</th>\n",
       "      <td>-0.333333</td>\n",
       "      <td>-0.425479</td>\n",
       "      <td>0</td>\n",
       "      <td>0</td>\n",
       "      <td>0</td>\n",
       "      <td>1</td>\n",
       "      <td>0</td>\n",
       "      <td>0</td>\n",
       "      <td>0</td>\n",
       "      <td>0</td>\n",
       "      <td>...</td>\n",
       "      <td>0</td>\n",
       "      <td>0</td>\n",
       "      <td>0</td>\n",
       "      <td>0</td>\n",
       "      <td>1</td>\n",
       "      <td>0</td>\n",
       "      <td>0</td>\n",
       "      <td>0</td>\n",
       "      <td>0</td>\n",
       "      <td>0</td>\n",
       "    </tr>\n",
       "    <tr>\n",
       "      <th>329804</th>\n",
       "      <td>-0.444444</td>\n",
       "      <td>0.253417</td>\n",
       "      <td>0</td>\n",
       "      <td>0</td>\n",
       "      <td>0</td>\n",
       "      <td>0</td>\n",
       "      <td>0</td>\n",
       "      <td>0</td>\n",
       "      <td>0</td>\n",
       "      <td>0</td>\n",
       "      <td>...</td>\n",
       "      <td>0</td>\n",
       "      <td>0</td>\n",
       "      <td>1</td>\n",
       "      <td>0</td>\n",
       "      <td>1</td>\n",
       "      <td>0</td>\n",
       "      <td>0</td>\n",
       "      <td>0</td>\n",
       "      <td>0</td>\n",
       "      <td>0</td>\n",
       "    </tr>\n",
       "    <tr>\n",
       "      <th>367376</th>\n",
       "      <td>-0.222222</td>\n",
       "      <td>-0.610698</td>\n",
       "      <td>0</td>\n",
       "      <td>0</td>\n",
       "      <td>0</td>\n",
       "      <td>0</td>\n",
       "      <td>0</td>\n",
       "      <td>0</td>\n",
       "      <td>0</td>\n",
       "      <td>0</td>\n",
       "      <td>...</td>\n",
       "      <td>0</td>\n",
       "      <td>0</td>\n",
       "      <td>0</td>\n",
       "      <td>0</td>\n",
       "      <td>1</td>\n",
       "      <td>0</td>\n",
       "      <td>0</td>\n",
       "      <td>0</td>\n",
       "      <td>0</td>\n",
       "      <td>0</td>\n",
       "    </tr>\n",
       "    <tr>\n",
       "      <th>193480</th>\n",
       "      <td>2.111111</td>\n",
       "      <td>0.410576</td>\n",
       "      <td>0</td>\n",
       "      <td>0</td>\n",
       "      <td>0</td>\n",
       "      <td>0</td>\n",
       "      <td>0</td>\n",
       "      <td>0</td>\n",
       "      <td>0</td>\n",
       "      <td>0</td>\n",
       "      <td>...</td>\n",
       "      <td>0</td>\n",
       "      <td>0</td>\n",
       "      <td>0</td>\n",
       "      <td>0</td>\n",
       "      <td>0</td>\n",
       "      <td>0</td>\n",
       "      <td>1</td>\n",
       "      <td>0</td>\n",
       "      <td>0</td>\n",
       "      <td>0</td>\n",
       "    </tr>\n",
       "    <tr>\n",
       "      <th>...</th>\n",
       "      <td>...</td>\n",
       "      <td>...</td>\n",
       "      <td>...</td>\n",
       "      <td>...</td>\n",
       "      <td>...</td>\n",
       "      <td>...</td>\n",
       "      <td>...</td>\n",
       "      <td>...</td>\n",
       "      <td>...</td>\n",
       "      <td>...</td>\n",
       "      <td>...</td>\n",
       "      <td>...</td>\n",
       "      <td>...</td>\n",
       "      <td>...</td>\n",
       "      <td>...</td>\n",
       "      <td>...</td>\n",
       "      <td>...</td>\n",
       "      <td>...</td>\n",
       "      <td>...</td>\n",
       "      <td>...</td>\n",
       "      <td>...</td>\n",
       "    </tr>\n",
       "    <tr>\n",
       "      <th>209252</th>\n",
       "      <td>-0.666667</td>\n",
       "      <td>-0.484862</td>\n",
       "      <td>0</td>\n",
       "      <td>0</td>\n",
       "      <td>0</td>\n",
       "      <td>0</td>\n",
       "      <td>0</td>\n",
       "      <td>0</td>\n",
       "      <td>0</td>\n",
       "      <td>1</td>\n",
       "      <td>...</td>\n",
       "      <td>0</td>\n",
       "      <td>0</td>\n",
       "      <td>0</td>\n",
       "      <td>0</td>\n",
       "      <td>0</td>\n",
       "      <td>0</td>\n",
       "      <td>1</td>\n",
       "      <td>0</td>\n",
       "      <td>0</td>\n",
       "      <td>0</td>\n",
       "    </tr>\n",
       "    <tr>\n",
       "      <th>183285</th>\n",
       "      <td>-0.666667</td>\n",
       "      <td>-0.630737</td>\n",
       "      <td>0</td>\n",
       "      <td>0</td>\n",
       "      <td>0</td>\n",
       "      <td>1</td>\n",
       "      <td>0</td>\n",
       "      <td>0</td>\n",
       "      <td>0</td>\n",
       "      <td>0</td>\n",
       "      <td>...</td>\n",
       "      <td>0</td>\n",
       "      <td>0</td>\n",
       "      <td>0</td>\n",
       "      <td>0</td>\n",
       "      <td>0</td>\n",
       "      <td>0</td>\n",
       "      <td>1</td>\n",
       "      <td>0</td>\n",
       "      <td>0</td>\n",
       "      <td>0</td>\n",
       "    </tr>\n",
       "    <tr>\n",
       "      <th>232490</th>\n",
       "      <td>-0.444444</td>\n",
       "      <td>-0.212457</td>\n",
       "      <td>0</td>\n",
       "      <td>0</td>\n",
       "      <td>0</td>\n",
       "      <td>0</td>\n",
       "      <td>0</td>\n",
       "      <td>0</td>\n",
       "      <td>0</td>\n",
       "      <td>0</td>\n",
       "      <td>...</td>\n",
       "      <td>0</td>\n",
       "      <td>0</td>\n",
       "      <td>0</td>\n",
       "      <td>0</td>\n",
       "      <td>1</td>\n",
       "      <td>0</td>\n",
       "      <td>0</td>\n",
       "      <td>0</td>\n",
       "      <td>0</td>\n",
       "      <td>0</td>\n",
       "    </tr>\n",
       "    <tr>\n",
       "      <th>260830</th>\n",
       "      <td>0.333333</td>\n",
       "      <td>0.792080</td>\n",
       "      <td>0</td>\n",
       "      <td>0</td>\n",
       "      <td>0</td>\n",
       "      <td>0</td>\n",
       "      <td>0</td>\n",
       "      <td>0</td>\n",
       "      <td>0</td>\n",
       "      <td>0</td>\n",
       "      <td>...</td>\n",
       "      <td>0</td>\n",
       "      <td>0</td>\n",
       "      <td>0</td>\n",
       "      <td>0</td>\n",
       "      <td>0</td>\n",
       "      <td>0</td>\n",
       "      <td>1</td>\n",
       "      <td>0</td>\n",
       "      <td>0</td>\n",
       "      <td>0</td>\n",
       "    </tr>\n",
       "    <tr>\n",
       "      <th>213322</th>\n",
       "      <td>-0.111111</td>\n",
       "      <td>0.023638</td>\n",
       "      <td>0</td>\n",
       "      <td>0</td>\n",
       "      <td>0</td>\n",
       "      <td>0</td>\n",
       "      <td>0</td>\n",
       "      <td>0</td>\n",
       "      <td>0</td>\n",
       "      <td>0</td>\n",
       "      <td>...</td>\n",
       "      <td>0</td>\n",
       "      <td>0</td>\n",
       "      <td>0</td>\n",
       "      <td>0</td>\n",
       "      <td>0</td>\n",
       "      <td>0</td>\n",
       "      <td>0</td>\n",
       "      <td>1</td>\n",
       "      <td>0</td>\n",
       "      <td>0</td>\n",
       "    </tr>\n",
       "  </tbody>\n",
       "</table>\n",
       "<p>192055 rows × 50 columns</p>\n",
       "</div>"
      ],
      "text/plain": [
       "         car_age  odometer  manufacturer_acura  manufacturer_alfa-romeo  \\\n",
       "200340 -0.111111  0.114860                   0                        0   \n",
       "110895 -0.333333 -0.425479                   0                        0   \n",
       "329804 -0.444444  0.253417                   0                        0   \n",
       "367376 -0.222222 -0.610698                   0                        0   \n",
       "193480  2.111111  0.410576                   0                        0   \n",
       "...          ...       ...                 ...                      ...   \n",
       "209252 -0.666667 -0.484862                   0                        0   \n",
       "183285 -0.666667 -0.630737                   0                        0   \n",
       "232490 -0.444444 -0.212457                   0                        0   \n",
       "260830  0.333333  0.792080                   0                        0   \n",
       "213322 -0.111111  0.023638                   0                        0   \n",
       "\n",
       "        manufacturer_aston-martin  manufacturer_audi  manufacturer_bmw  \\\n",
       "200340                          0                  0                 0   \n",
       "110895                          0                  1                 0   \n",
       "329804                          0                  0                 0   \n",
       "367376                          0                  0                 0   \n",
       "193480                          0                  0                 0   \n",
       "...                           ...                ...               ...   \n",
       "209252                          0                  0                 0   \n",
       "183285                          0                  1                 0   \n",
       "232490                          0                  0                 0   \n",
       "260830                          0                  0                 0   \n",
       "213322                          0                  0                 0   \n",
       "\n",
       "        manufacturer_buick  manufacturer_cadillac  manufacturer_chevrolet  \\\n",
       "200340                   1                      0                       0   \n",
       "110895                   0                      0                       0   \n",
       "329804                   0                      0                       0   \n",
       "367376                   0                      0                       0   \n",
       "193480                   0                      0                       0   \n",
       "...                    ...                    ...                     ...   \n",
       "209252                   0                      0                       1   \n",
       "183285                   0                      0                       0   \n",
       "232490                   0                      0                       0   \n",
       "260830                   0                      0                       0   \n",
       "213322                   0                      0                       0   \n",
       "\n",
       "        ...  manufacturer_tesla  manufacturer_toyota  manufacturer_volkswagen  \\\n",
       "200340  ...                   0                    0                        0   \n",
       "110895  ...                   0                    0                        0   \n",
       "329804  ...                   0                    0                        1   \n",
       "367376  ...                   0                    0                        0   \n",
       "193480  ...                   0                    0                        0   \n",
       "...     ...                 ...                  ...                      ...   \n",
       "209252  ...                   0                    0                        0   \n",
       "183285  ...                   0                    0                        0   \n",
       "232490  ...                   0                    0                        0   \n",
       "260830  ...                   0                    0                        0   \n",
       "213322  ...                   0                    0                        0   \n",
       "\n",
       "        manufacturer_volvo  condition_excellent  condition_fair  \\\n",
       "200340                   0                    1               0   \n",
       "110895                   0                    1               0   \n",
       "329804                   0                    1               0   \n",
       "367376                   0                    1               0   \n",
       "193480                   0                    0               0   \n",
       "...                    ...                  ...             ...   \n",
       "209252                   0                    0               0   \n",
       "183285                   0                    0               0   \n",
       "232490                   0                    1               0   \n",
       "260830                   0                    0               0   \n",
       "213322                   0                    0               0   \n",
       "\n",
       "        condition_good  condition_like new  condition_new  condition_salvage  \n",
       "200340               0                   0              0                  0  \n",
       "110895               0                   0              0                  0  \n",
       "329804               0                   0              0                  0  \n",
       "367376               0                   0              0                  0  \n",
       "193480               1                   0              0                  0  \n",
       "...                ...                 ...            ...                ...  \n",
       "209252               1                   0              0                  0  \n",
       "183285               1                   0              0                  0  \n",
       "232490               0                   0              0                  0  \n",
       "260830               1                   0              0                  0  \n",
       "213322               0                   1              0                  0  \n",
       "\n",
       "[192055 rows x 50 columns]"
      ]
     },
     "execution_count": 15,
     "metadata": {},
     "output_type": "execute_result"
    }
   ],
   "source": [
    "from sklearn.preprocessing import RobustScaler\n",
    "df_rob = X_train.copy()\n",
    "#only scale numeric varaibles in this case rather than the dummy variables for categories \n",
    "df_rob.loc[:,['car_age','odometer']] = RobustScaler().fit_transform(df_rob.loc[:, ['car_age','odometer']])\n",
    "df_rob"
   ]
  },
  {
   "cell_type": "code",
   "execution_count": 16,
   "metadata": {
    "execution": {
     "iopub.execute_input": "2022-10-13T01:12:06.693667Z",
     "iopub.status.busy": "2022-10-13T01:12:06.693197Z",
     "iopub.status.idle": "2022-10-13T01:12:08.090994Z",
     "shell.execute_reply": "2022-10-13T01:12:08.089790Z",
     "shell.execute_reply.started": "2022-10-13T01:12:06.693624Z"
    }
   },
   "outputs": [],
   "source": [
    "#let's do a simple exmaple where we compare results with the different features scaling techniques. We will remove the categorical data for this. \n",
    "\n",
    "#the model we will be using is K Nearest Neighbors which can use euclidean distance. \n",
    "\n",
    "#we will use year and odometer to predict price \n",
    "\n",
    "from sklearn.neighbors import KNeighborsRegressor\n",
    "from sklearn.metrics import mean_absolute_error\n",
    "\n",
    "#noscaling \n",
    "neigh_am = KNeighborsRegressor(n_neighbors=3)\n",
    "neigh_am.fit(X_train.loc[:,['car_age','odometer']], y_train)\n",
    "pred = neigh_am.predict(X_test.loc[:,['car_age','odometer']])\n",
    "\n",
    "#absolute max \n",
    "neigh_am = KNeighborsRegressor(n_neighbors=3)\n",
    "neigh_am.fit(df_am.loc[:,['car_age','odometer']], y_train)\n",
    "am_pred = neigh_am.predict(X_test.loc[:,['car_age','odometer']])\n",
    "\n",
    "#min max (should get same results)\n",
    "neigh_mm = KNeighborsRegressor(n_neighbors=3)\n",
    "neigh_mm.fit(df_min_max.loc[:,['car_age','odometer']], y_train)\n",
    "mm_pred = neigh_mm.predict(X_test.loc[:,['car_age','odometer']])\n",
    "\n",
    "#standard (z score)\n",
    "neigh_std = KNeighborsRegressor(n_neighbors=3)\n",
    "neigh_std.fit(df_std.loc[:,['car_age','odometer']], y_train)\n",
    "std_pred = neigh_std.predict(X_test.loc[:,['car_age','odometer']])\n",
    "\n",
    "#robust scaler \n",
    "neigh_rob = KNeighborsRegressor(n_neighbors=3)\n",
    "neigh_rob.fit(df_rob.loc[:,['car_age','odometer']], y_train)\n",
    "rob_pred = neigh_rob.predict(X_test.loc[:,['car_age','odometer']])\n",
    "\n"
   ]
  },
  {
   "cell_type": "code",
   "execution_count": 17,
   "metadata": {
    "execution": {
     "iopub.execute_input": "2022-10-13T01:12:08.092850Z",
     "iopub.status.busy": "2022-10-13T01:12:08.092502Z",
     "iopub.status.idle": "2022-10-13T01:12:08.112358Z",
     "shell.execute_reply": "2022-10-13T01:12:08.111124Z",
     "shell.execute_reply.started": "2022-10-13T01:12:08.092819Z"
    }
   },
   "outputs": [
    {
     "name": "stdout",
     "output_type": "stream",
     "text": [
      "No Scaling: 65742.440\n",
      "Abosolute Max Score: 17113.469\n",
      "Min Max Score: 17113.469\n",
      "Standard Scaling Score: 19995.350\n",
      "Robust Scaler Score: 20225.628\n"
     ]
    }
   ],
   "source": [
    "print('No Scaling: %.3f' % mean_absolute_error(y_test,pred))\n",
    "print('Abosolute Max Score: %.3f' % mean_absolute_error(y_test,am_pred))\n",
    "print('Min Max Score: %.3f' % mean_absolute_error(y_test,mm_pred))\n",
    "print('Standard Scaling Score: %.3f' % mean_absolute_error(y_test,std_pred))\n",
    "print('Robust Scaler Score: %.3f' % mean_absolute_error(y_test,rob_pred))\n"
   ]
  },
  {
   "cell_type": "markdown",
   "metadata": {},
   "source": [
    "# Transformations \n",
    "A data transformation is the process of using a math expression to change the structure of our data. As we mentioned before, some models need data to fit a specific type of distribution for them to produce optimal results. Unfortunately, the data we get in the real world, doesn’t always fit the distributions our models call for. \n",
    "\n",
    "Let's look at the shape of our data and if it has any outliers before we do our transforms"
   ]
  },
  {
   "cell_type": "code",
   "execution_count": 18,
   "metadata": {
    "execution": {
     "iopub.execute_input": "2022-10-13T01:12:08.115068Z",
     "iopub.status.busy": "2022-10-13T01:12:08.114527Z",
     "iopub.status.idle": "2022-10-13T01:12:08.379396Z",
     "shell.execute_reply": "2022-10-13T01:12:08.377972Z",
     "shell.execute_reply.started": "2022-10-13T01:12:08.115006Z"
    }
   },
   "outputs": [
    {
     "name": "stdout",
     "output_type": "stream",
     "text": [
      "max odometer: 10000000.0\n",
      "median odometer: 83190.0\n"
     ]
    },
    {
     "data": {
      "text/plain": [
       "<AxesSubplot:>"
      ]
     },
     "execution_count": 18,
     "metadata": {},
     "output_type": "execute_result"
    },
    {
     "data": {
      "image/png": "[encoded data removed]",
      "text/plain": [
       "<Figure size 432x288 with 1 Axes>"
      ]
     },
     "metadata": {
      "needs_background": "light"
     },
     "output_type": "display_data"
    }
   ],
   "source": [
    "# visual of the distribution of the odometer without any outlier removal (see boxplots above)\n",
    "#data is clearly impacted heavily by outliers \n",
    "print(\"max odometer: \" + str(df_example['odometer'].max()))\n",
    "print(\"median odometer: \" + str(df_example['odometer'].median()))\n",
    "\n",
    "df_example['odometer'].hist(bins=50)\n"
   ]
  },
  {
   "cell_type": "code",
   "execution_count": 19,
   "metadata": {
    "execution": {
     "iopub.execute_input": "2022-10-13T01:12:08.383375Z",
     "iopub.status.busy": "2022-10-13T01:12:08.382203Z",
     "iopub.status.idle": "2022-10-13T01:12:08.803184Z",
     "shell.execute_reply": "2022-10-13T01:12:08.801940Z",
     "shell.execute_reply.started": "2022-10-13T01:12:08.383329Z"
    }
   },
   "outputs": [
    {
     "name": "stderr",
     "output_type": "stream",
     "text": [
      "<ipython-input-19-aa882cc544be>:3: UserWarning: Boolean Series key will be reindexed to match DataFrame index.\n",
      "  df_example[df['odometer']<df['odometer'].quantile(.99)]['odometer'].hist(bins=50)\n"
     ]
    },
    {
     "data": {
      "text/plain": [
       "<AxesSubplot:>"
      ]
     },
     "execution_count": 19,
     "metadata": {},
     "output_type": "execute_result"
    },
    {
     "data": {
      "image/png": "[encoded data removed]",
      "text/plain": [
       "<Figure size 432x288 with 1 Axes>"
      ]
     },
     "metadata": {
      "needs_background": "light"
     },
     "output_type": "display_data"
    }
   ],
   "source": [
    "#shape of the data after very basic oultier removal (kept only data < 99th percentile)\n",
    "#clear right skew in data \n",
    "df_example[df['odometer']<df['odometer'].quantile(.99)]['odometer'].hist(bins=50)"
   ]
  },
  {
   "cell_type": "code",
   "execution_count": 20,
   "metadata": {
    "execution": {
     "iopub.execute_input": "2022-10-13T01:12:08.804975Z",
     "iopub.status.busy": "2022-10-13T01:12:08.804655Z",
     "iopub.status.idle": "2022-10-13T01:12:09.139773Z",
     "shell.execute_reply": "2022-10-13T01:12:09.138354Z",
     "shell.execute_reply.started": "2022-10-13T01:12:08.804946Z"
    }
   },
   "outputs": [
    {
     "name": "stdout",
     "output_type": "stream",
     "text": [
      "max price: 3736928711\n",
      "median price: 14500.0\n"
     ]
    },
    {
     "data": {
      "text/plain": [
       "<AxesSubplot:>"
      ]
     },
     "execution_count": 20,
     "metadata": {},
     "output_type": "execute_result"
    },
    {
     "data": {
      "image/png": "[encoded data removed]",
      "text/plain": [
       "<Figure size 432x288 with 1 Axes>"
      ]
     },
     "metadata": {
      "needs_background": "light"
     },
     "output_type": "display_data"
    }
   ],
   "source": [
    "# visual of the distribution of the odometer without any outlier removal (see boxplots above)\n",
    "#data is clearly impacted heavily by outliers \n",
    "print(\"max price: \" + str(df_example['price'].max()))\n",
    "print(\"median price: \" + str(df_example['price'].median()))\n",
    "\n",
    "df_example['price'].hist(bins=50)"
   ]
  },
  {
   "cell_type": "code",
   "execution_count": 21,
   "metadata": {
    "execution": {
     "iopub.execute_input": "2022-10-13T01:12:09.141623Z",
     "iopub.status.busy": "2022-10-13T01:12:09.141273Z",
     "iopub.status.idle": "2022-10-13T01:12:09.569237Z",
     "shell.execute_reply": "2022-10-13T01:12:09.567924Z",
     "shell.execute_reply.started": "2022-10-13T01:12:09.141592Z"
    }
   },
   "outputs": [
    {
     "name": "stderr",
     "output_type": "stream",
     "text": [
      "<ipython-input-21-f192a9e7847f>:4: UserWarning: Boolean Series key will be reindexed to match DataFrame index.\n",
      "  df_example[df['price']<df['price'].quantile(.99)]['price'].hist(bins=50)\n"
     ]
    },
    {
     "data": {
      "text/plain": [
       "<AxesSubplot:>"
      ]
     },
     "execution_count": 21,
     "metadata": {},
     "output_type": "execute_result"
    },
    {
     "data": {
      "image/png": "[encoded data removed]",
      "text/plain": [
       "<Figure size 432x288 with 1 Axes>"
      ]
     },
     "metadata": {
      "needs_background": "light"
     },
     "output_type": "display_data"
    }
   ],
   "source": [
    "#shape of the data after very basic oultier removal (kept only data < 99th percentile)\n",
    "#clear right skew in data \n",
    "\n",
    "df_example[df['price']<df['price'].quantile(.99)]['price'].hist(bins=50)"
   ]
  },
  {
   "cell_type": "code",
   "execution_count": 22,
   "metadata": {
    "execution": {
     "iopub.execute_input": "2022-10-13T01:25:03.892126Z",
     "iopub.status.busy": "2022-10-13T01:25:03.891625Z",
     "iopub.status.idle": "2022-10-13T01:25:04.216904Z",
     "shell.execute_reply": "2022-10-13T01:25:04.215649Z",
     "shell.execute_reply.started": "2022-10-13T01:25:03.892072Z"
    }
   },
   "outputs": [
    {
     "name": "stdout",
     "output_type": "stream",
     "text": [
      "max age: 122.0\n",
      "median age: 113.0\n"
     ]
    },
    {
     "data": {
      "text/plain": [
       "<AxesSubplot:>"
      ]
     },
     "execution_count": 22,
     "metadata": {},
     "output_type": "execute_result"
    },
    {
     "data": {
      "image/png": "[encoded data removed]",
      "text/plain": [
       "<Figure size 432x288 with 1 Axes>"
      ]
     },
     "metadata": {
      "needs_background": "light"
     },
     "output_type": "display_data"
    }
   ],
   "source": [
    "# Let's do some simple feature engineering to get how old the cars are\n",
    "\n",
    "df_example['car_age'] = df_example['car_age'].max() - df_example['car_age']\n",
    "\n",
    "print(\"max age: \" + str(df_example['car_age'].max()))\n",
    "print(\"median age: \" + str(df_example['car_age'].median()))\n",
    "\n",
    "df_example['car_age'].hist(bins=50)"
   ]
  },
  {
   "cell_type": "markdown",
   "metadata": {},
   "source": [
    "# Logarithmic Transformation\n",
    "A very popular, common type of transformation is the log transformation. Log transformations fall under the family of power transformations. Typically, we apply logarithmic transformations to our variables when our variables are heavily right skewed, driven by a few outliers. \n",
    "\n",
    "Let's see how these transformations impact some of our skewed data (Odometer & Price)\n",
    "\n",
    "### Transforms we will cover\n",
    "- Logarithmic \n",
    "- Exponential\n",
    "- Square Root \n",
    "- Box-Cox"
   ]
  },
  {
   "cell_type": "code",
   "execution_count": 121,
   "metadata": {
    "execution": {
     "iopub.execute_input": "2022-10-13T01:19:33.713418Z",
     "iopub.status.busy": "2022-10-13T01:19:33.712995Z",
     "iopub.status.idle": "2022-10-13T01:19:33.928337Z",
     "shell.execute_reply": "2022-10-13T01:19:33.927319Z",
     "shell.execute_reply.started": "2022-10-13T01:19:33.713386Z"
    }
   },
   "outputs": [],
   "source": [
    "from sklearn.preprocessing import FunctionTransformer\n",
    "\n",
    "def log_transform(x):\n",
    "    return np.log(x + 1)\n",
    "\n",
    "transformer_log = FunctionTransformer(log_transform)\n",
    "transformed_log = transformer_log.fit_transform(X_train)"
   ]
  },
  {
   "cell_type": "code",
   "execution_count": 122,
   "metadata": {
    "execution": {
     "iopub.execute_input": "2022-10-13T01:19:39.745875Z",
     "iopub.status.busy": "2022-10-13T01:19:39.745476Z",
     "iopub.status.idle": "2022-10-13T01:19:39.753365Z",
     "shell.execute_reply": "2022-10-13T01:19:39.752131Z",
     "shell.execute_reply.started": "2022-10-13T01:19:39.745842Z"
    }
   },
   "outputs": [],
   "source": [
    "transformer_logp = FunctionTransformer(log_transform)\n",
    "transformed_logp = transformer_logp.fit_transform(y_train)"
   ]
  },
  {
   "cell_type": "code",
   "execution_count": 123,
   "metadata": {
    "execution": {
     "iopub.execute_input": "2022-10-13T01:19:39.930322Z",
     "iopub.status.busy": "2022-10-13T01:19:39.929629Z",
     "iopub.status.idle": "2022-10-13T01:19:40.358469Z",
     "shell.execute_reply": "2022-10-13T01:19:40.357205Z",
     "shell.execute_reply.started": "2022-10-13T01:19:39.930286Z"
    }
   },
   "outputs": [
    {
     "data": {
      "text/plain": [
       "<AxesSubplot:>"
      ]
     },
     "execution_count": 123,
     "metadata": {},
     "output_type": "execute_result"
    },
    {
     "data": {
      "image/png": "[encoded data removed]",
      "text/plain": [
       "<Figure size 432x288 with 1 Axes>"
      ]
     },
     "metadata": {
      "needs_background": "light"
     },
     "output_type": "display_data"
    }
   ],
   "source": [
    "#as you can see, using log transform in this case actually creates some right skew. \n",
    "#It does however almost completely normalize the outliers that were present\n",
    "\n",
    "transformed_log['odometer'].hist(bins = 100)"
   ]
  },
  {
   "cell_type": "code",
   "execution_count": 124,
   "metadata": {
    "execution": {
     "iopub.execute_input": "2022-10-13T01:28:11.096565Z",
     "iopub.status.busy": "2022-10-13T01:28:11.096180Z",
     "iopub.status.idle": "2022-10-13T01:28:11.364595Z",
     "shell.execute_reply": "2022-10-13T01:28:11.363436Z",
     "shell.execute_reply.started": "2022-10-13T01:28:11.096535Z"
    }
   },
   "outputs": [
    {
     "data": {
      "text/plain": [
       "<AxesSubplot:>"
      ]
     },
     "execution_count": 124,
     "metadata": {},
     "output_type": "execute_result"
    },
    {
     "data": {
      "image/png": "[encoded data removed]",
      "text/plain": [
       "<Figure size 432x288 with 1 Axes>"
      ]
     },
     "metadata": {
      "needs_background": "light"
     },
     "output_type": "display_data"
    }
   ],
   "source": [
    "transformed_log['car_age'].hist(bins = 20)"
   ]
  },
  {
   "cell_type": "code",
   "execution_count": 125,
   "metadata": {
    "execution": {
     "iopub.execute_input": "2022-10-13T01:19:43.640570Z",
     "iopub.status.busy": "2022-10-13T01:19:43.640078Z",
     "iopub.status.idle": "2022-10-13T01:19:44.208714Z",
     "shell.execute_reply": "2022-10-13T01:19:44.207545Z",
     "shell.execute_reply.started": "2022-10-13T01:19:43.640531Z"
    }
   },
   "outputs": [
    {
     "data": {
      "text/plain": [
       "array([[<AxesSubplot:title={'center':'price'}>]], dtype=object)"
      ]
     },
     "execution_count": 125,
     "metadata": {},
     "output_type": "execute_result"
    },
    {
     "data": {
      "image/png": "[encoded data removed]",
      "text/plain": [
       "<Figure size 432x288 with 1 Axes>"
      ]
     },
     "metadata": {
      "needs_background": "light"
     },
     "output_type": "display_data"
    }
   ],
   "source": [
    "#as you can see, using log transform in this case actually creates some right skew. \n",
    "#It does however almost completely normalize the outliers that were present\n",
    "\n",
    "transformed_logp.hist(bins =100)"
   ]
  },
  {
   "cell_type": "markdown",
   "metadata": {},
   "source": [
    "# Square Root Transform\n",
    "Square/Square Root transformations will compress the spread of your larger values but spread out your lower values. Log transformations have a similar effect but are much more aggressive"
   ]
  },
  {
   "cell_type": "code",
   "execution_count": 126,
   "metadata": {
    "execution": {
     "iopub.execute_input": "2022-10-13T01:20:17.747610Z",
     "iopub.status.busy": "2022-10-13T01:20:17.747207Z",
     "iopub.status.idle": "2022-10-13T01:20:17.930618Z",
     "shell.execute_reply": "2022-10-13T01:20:17.929572Z",
     "shell.execute_reply.started": "2022-10-13T01:20:17.747580Z"
    }
   },
   "outputs": [],
   "source": [
    "def sqrt_transform(x):\n",
    "    return np.sqrt(x)\n",
    "\n",
    "transformer_sqrt = FunctionTransformer(sqrt_transform)\n",
    "transformed_sqrt = transformer_sqrt.fit_transform(X_train)"
   ]
  },
  {
   "cell_type": "code",
   "execution_count": 127,
   "metadata": {
    "execution": {
     "iopub.execute_input": "2022-10-13T01:20:18.008943Z",
     "iopub.status.busy": "2022-10-13T01:20:18.008556Z",
     "iopub.status.idle": "2022-10-13T01:20:18.015099Z",
     "shell.execute_reply": "2022-10-13T01:20:18.013905Z",
     "shell.execute_reply.started": "2022-10-13T01:20:18.008914Z"
    }
   },
   "outputs": [],
   "source": [
    "transformer_sqrtp = FunctionTransformer(sqrt_transform)\n",
    "transformed_sqrtp = transformer_sqrtp.fit_transform(y_train)"
   ]
  },
  {
   "cell_type": "code",
   "execution_count": 128,
   "metadata": {
    "execution": {
     "iopub.execute_input": "2022-10-13T01:20:18.179879Z",
     "iopub.status.busy": "2022-10-13T01:20:18.179468Z",
     "iopub.status.idle": "2022-10-13T01:20:18.593652Z",
     "shell.execute_reply": "2022-10-13T01:20:18.592474Z",
     "shell.execute_reply.started": "2022-10-13T01:20:18.179843Z"
    }
   },
   "outputs": [
    {
     "data": {
      "text/plain": [
       "<AxesSubplot:>"
      ]
     },
     "execution_count": 128,
     "metadata": {},
     "output_type": "execute_result"
    },
    {
     "data": {
      "image/png": "[encoded data removed]",
      "text/plain": [
       "<Figure size 432x288 with 1 Axes>"
      ]
     },
     "metadata": {
      "needs_background": "light"
     },
     "output_type": "display_data"
    }
   ],
   "source": [
    "transformed_sqrt['odometer'].hist(bins = 100)"
   ]
  },
  {
   "cell_type": "code",
   "execution_count": 129,
   "metadata": {
    "execution": {
     "iopub.execute_input": "2022-10-13T01:28:50.782668Z",
     "iopub.status.busy": "2022-10-13T01:28:50.781635Z",
     "iopub.status.idle": "2022-10-13T01:28:51.055808Z",
     "shell.execute_reply": "2022-10-13T01:28:51.054517Z",
     "shell.execute_reply.started": "2022-10-13T01:28:50.782622Z"
    }
   },
   "outputs": [
    {
     "data": {
      "text/plain": [
       "<AxesSubplot:>"
      ]
     },
     "execution_count": 129,
     "metadata": {},
     "output_type": "execute_result"
    },
    {
     "data": {
      "image/png": "[encoded data removed]",
      "text/plain": [
       "<Figure size 432x288 with 1 Axes>"
      ]
     },
     "metadata": {
      "needs_background": "light"
     },
     "output_type": "display_data"
    }
   ],
   "source": [
    "transformed_sqrt['car_age'].hist(bins = 20)"
   ]
  },
  {
   "cell_type": "code",
   "execution_count": 130,
   "metadata": {
    "execution": {
     "iopub.execute_input": "2022-10-13T01:20:18.834339Z",
     "iopub.status.busy": "2022-10-13T01:20:18.833927Z",
     "iopub.status.idle": "2022-10-13T01:20:19.268422Z",
     "shell.execute_reply": "2022-10-13T01:20:19.267284Z",
     "shell.execute_reply.started": "2022-10-13T01:20:18.834308Z"
    }
   },
   "outputs": [
    {
     "data": {
      "text/plain": [
       "array([[<AxesSubplot:title={'center':'price'}>]], dtype=object)"
      ]
     },
     "execution_count": 130,
     "metadata": {},
     "output_type": "execute_result"
    },
    {
     "data": {
      "image/png": "[encoded data removed]",
      "text/plain": [
       "<Figure size 432x288 with 1 Axes>"
      ]
     },
     "metadata": {
      "needs_background": "light"
     },
     "output_type": "display_data"
    }
   ],
   "source": [
    "transformed_sqrtp.hist(bins = 100)"
   ]
  },
  {
   "cell_type": "code",
   "execution_count": 131,
   "metadata": {
    "execution": {
     "iopub.execute_input": "2022-10-13T01:20:22.254277Z",
     "iopub.status.busy": "2022-10-13T01:20:22.253871Z",
     "iopub.status.idle": "2022-10-13T01:20:22.269867Z",
     "shell.execute_reply": "2022-10-13T01:20:22.268253Z",
     "shell.execute_reply.started": "2022-10-13T01:20:22.254247Z"
    }
   },
   "outputs": [],
   "source": [
    "transformer_sqrtp = FunctionTransformer(sqrt_transform)\n",
    "transformed_sqrtp = transformer_sqrtp.fit_transform(y_train[y_train['price'] < y_train['price'].quantile(.99)])"
   ]
  },
  {
   "cell_type": "code",
   "execution_count": 132,
   "metadata": {
    "execution": {
     "iopub.execute_input": "2022-10-13T01:20:22.935785Z",
     "iopub.status.busy": "2022-10-13T01:20:22.934956Z",
     "iopub.status.idle": "2022-10-13T01:20:23.266298Z",
     "shell.execute_reply": "2022-10-13T01:20:23.265476Z",
     "shell.execute_reply.started": "2022-10-13T01:20:22.935740Z"
    }
   },
   "outputs": [
    {
     "data": {
      "text/plain": [
       "array([[<AxesSubplot:title={'center':'price'}>]], dtype=object)"
      ]
     },
     "execution_count": 132,
     "metadata": {},
     "output_type": "execute_result"
    },
    {
     "data": {
      "image/png": "[encoded data removed]",
      "text/plain": [
       "<Figure size 432x288 with 1 Axes>"
      ]
     },
     "metadata": {
      "needs_background": "light"
     },
     "output_type": "display_data"
    }
   ],
   "source": [
    "transformed_sqrtp.hist(bins=50) "
   ]
  },
  {
   "cell_type": "markdown",
   "metadata": {},
   "source": [
    "# Exponential Transformation\n",
    "\n",
    "A close cousin of the log transform is the exponential transformation. There are many instances where you'd use an exponential transform:\n",
    "\n",
    "- Anytime you apply a log transform to your target variable, you can apply an exponential transformation to revert it back to the original value. \n",
    "- Log and Exponential transformations are the inverse of each other. You can use either to perform the same task. Whether you want a log-linear or linear-log model. \n",
    "- Use Exponential transformations when you wanto magnify small differences."
   ]
  },
  {
   "cell_type": "code",
   "execution_count": 135,
   "metadata": {},
   "outputs": [
    {
     "data": {
      "text/plain": [
       "231575     2.0\n",
       "143933    16.0\n",
       "4589       5.0\n",
       "423573     3.0\n",
       "153940     7.0\n",
       "          ... \n",
       "231485     4.0\n",
       "197990     6.0\n",
       "256173    13.0\n",
       "280797     7.0\n",
       "235376     5.0\n",
       "Name: car_age, Length: 174961, dtype: float64"
      ]
     },
     "execution_count": 135,
     "metadata": {},
     "output_type": "execute_result"
    }
   ],
   "source": []
  },
  {
   "cell_type": "code",
   "execution_count": 137,
   "metadata": {
    "execution": {
     "iopub.execute_input": "2022-10-13T01:54:33.814125Z",
     "iopub.status.busy": "2022-10-13T01:54:33.813443Z",
     "iopub.status.idle": "2022-10-13T01:54:34.091436Z",
     "shell.execute_reply": "2022-10-13T01:54:34.090340Z",
     "shell.execute_reply.started": "2022-10-13T01:54:33.814084Z"
    }
   },
   "outputs": [],
   "source": [
    "def exp_transform(x):\n",
    "    return np.exp(x)\n",
    "\n",
    "transformer_exp = FunctionTransformer(exp_transform)\n",
    "\n",
    "## In our dataset, car age may be something we want to magnify\n",
    "transformed_exp = X_train.copy()\n",
    "\n",
    "transformed_exp['car_age'] = transformer_exp.fit_transform(transformed_exp['car_age'])"
   ]
  },
  {
   "cell_type": "code",
   "execution_count": 139,
   "metadata": {},
   "outputs": [
    {
     "data": {
      "text/plain": [
       "(array([1.17198e+05, 4.84240e+04, 5.17400e+03, 1.68300e+03, 1.53500e+03,\n",
       "        5.21000e+02, 1.96000e+02, 1.89000e+02, 3.80000e+01, 3.00000e+00]),\n",
       " array([  0. ,  12.2,  24.4,  36.6,  48.8,  61. ,  73.2,  85.4,  97.6,\n",
       "        109.8, 122. ]),\n",
       " <BarContainer object of 10 artists>)"
      ]
     },
     "execution_count": 139,
     "metadata": {},
     "output_type": "execute_result"
    },
    {
     "data": {
      "image/png": "[encoded data removed]",
      "text/plain": [
       "<Figure size 432x288 with 1 Axes>"
      ]
     },
     "metadata": {
      "needs_background": "light"
     },
     "output_type": "display_data"
    }
   ],
   "source": [
    "plt.hist(X_train['car_age'])"
   ]
  },
  {
   "cell_type": "code",
   "execution_count": 141,
   "metadata": {
    "execution": {
     "iopub.execute_input": "2022-10-13T01:55:06.310736Z",
     "iopub.status.busy": "2022-10-13T01:55:06.310082Z",
     "iopub.status.idle": "2022-10-13T01:55:06.319627Z",
     "shell.execute_reply": "2022-10-13T01:55:06.318810Z",
     "shell.execute_reply.started": "2022-10-13T01:55:06.310700Z"
    }
   },
   "outputs": [
    {
     "data": {
      "text/plain": [
       "(array([1.74959e+05, 0.00000e+00, 0.00000e+00, 0.00000e+00, 0.00000e+00,\n",
       "        0.00000e+00, 0.00000e+00, 0.00000e+00, 0.00000e+00, 2.00000e+00]),\n",
       " array([1.00000000e+00, 9.63666567e+51, 1.92733313e+52, 2.89099970e+52,\n",
       "        3.85466627e+52, 4.81833284e+52, 5.78199940e+52, 6.74566597e+52,\n",
       "        7.70933254e+52, 8.67299911e+52, 9.63666567e+52]),\n",
       " <BarContainer object of 10 artists>)"
      ]
     },
     "execution_count": 141,
     "metadata": {},
     "output_type": "execute_result"
    },
    {
     "data": {
      "image/png": "[encoded data removed]",
      "text/plain": [
       "<Figure size 432x288 with 1 Axes>"
      ]
     },
     "metadata": {
      "needs_background": "light"
     },
     "output_type": "display_data"
    }
   ],
   "source": [
    "## X and y-scale here are much larger\n",
    "plt.hist(transformed_exp['car_age'])"
   ]
  },
  {
   "cell_type": "markdown",
   "metadata": {},
   "source": [
    "# Box-Cox Transformation\n",
    "\n",
    "The Box-Cox transformation is a transformation that helps your dataset follow a normal distribution. Typically, we use Box-Cox transformation when our dataset is not normal, but close to being normal. When we want to either run tests or generate significance from our dataset, Box-Cox transformation is a good option to transform our target variable so it resembles a normal distribution.\n",
    "\n",
    "Box-Cox aggregates multiple power transformers into a single transformer. You use lambda to adjust the transformation. Lambda varies from -5 to 5. If we set lambda equal to zero, it becomes simply a log transformation. If lambda is not equal to zero, "
   ]
  },
  {
   "cell_type": "code",
   "execution_count": null,
   "metadata": {},
   "outputs": [],
   "source": [
    "## Redo the pipeline for this example\n",
    "from sklearn.model_selection import train_test_split\n",
    "\n",
    "## Clip Outliers\n",
    "df_example = df_example[df_example['price'] < np.percentile(df_example['price'], 95)]\n",
    "\n",
    "## Remove prices that are 0 to make notebook work\n",
    "df_example = df_example[df_example['price'] > 0].copy()\n",
    "\n",
    "X = df_example.drop('price',axis =1 )\n",
    "y = df_example[['price']]\n",
    "\n",
    "X_train, X_test, y_train, y_test = train_test_split(X, y, test_size=0.2, random_state=42)"
   ]
  },
  {
   "cell_type": "code",
   "execution_count": 99,
   "metadata": {
    "execution": {
     "iopub.execute_input": "2022-10-13T02:01:01.234522Z",
     "iopub.status.busy": "2022-10-13T02:01:01.233985Z",
     "iopub.status.idle": "2022-10-13T02:01:01.262773Z",
     "shell.execute_reply": "2022-10-13T02:01:01.261251Z",
     "shell.execute_reply.started": "2022-10-13T02:01:01.234474Z"
    }
   },
   "outputs": [
    {
     "data": {
      "text/plain": [
       "(array([21773., 33555., 22686., 19194., 17693., 12706., 14398., 12613.,\n",
       "        10854.,  9489.]),\n",
       " array([1.00000e+00, 4.00060e+03, 8.00020e+03, 1.19998e+04, 1.59994e+04,\n",
       "        1.99990e+04, 2.39986e+04, 2.79982e+04, 3.19978e+04, 3.59974e+04,\n",
       "        3.99970e+04]),\n",
       " <BarContainer object of 10 artists>)"
      ]
     },
     "execution_count": 99,
     "metadata": {},
     "output_type": "execute_result"
    },
    {
     "data": {
      "image/png": "[encoded data removed]",
      "text/plain": [
       "<Figure size 432x288 with 1 Axes>"
      ]
     },
     "metadata": {
      "needs_background": "light"
     },
     "output_type": "display_data"
    }
   ],
   "source": [
    "plt.hist(y_train['price'])"
   ]
  },
  {
   "cell_type": "markdown",
   "metadata": {},
   "source": [
    "Then, we'll apply a boxcox transformation to make this dataset a bit more normal. Within scipy.stats, we can set `lmbda = None` and the boxcox function will find the lambda value that will maximize the log-likelihood function of the dataset:"
   ]
  },
  {
   "cell_type": "code",
   "execution_count": 116,
   "metadata": {},
   "outputs": [
    {
     "data": {
      "text/plain": [
       "(array([ 2055.,  3032.,  8883., 20664., 28066., 22105., 23630., 20965.,\n",
       "        25400., 20161.]),\n",
       " array([  0.        ,  30.60222768,  61.20445537,  91.80668305,\n",
       "        122.40891074, 153.01113842, 183.6133661 , 214.21559379,\n",
       "        244.81782147, 275.42004915, 306.02227684]),\n",
       " <BarContainer object of 10 artists>)"
      ]
     },
     "execution_count": 116,
     "metadata": {},
     "output_type": "execute_result"
    },
    {
     "data": {
      "image/png": "[encoded data removed]",
      "text/plain": [
       "<Figure size 432x288 with 1 Axes>"
      ]
     },
     "metadata": {
      "needs_background": "light"
     },
     "output_type": "display_data"
    }
   ],
   "source": [
    "from scipy.stats import boxcox\n",
    "\n",
    "boxcox_y_train = boxcox(y_train['price'], lmbda = None)\n",
    "\n",
    "plt.hist(boxcox_y_train[0])"
   ]
  },
  {
   "cell_type": "code",
   "execution_count": 118,
   "metadata": {},
   "outputs": [
    {
     "name": "stdout",
     "output_type": "stream",
     "text": [
      "Lambda Parameter 0.4694318552502363\n"
     ]
    }
   ],
   "source": [
    "print(\"Lambda Parameter {0}\".format(boxcox_y_train[1]))"
   ]
  },
  {
   "cell_type": "markdown",
   "metadata": {},
   "source": [
    "# Feature Interactions\n",
    "\n",
    "Like a chef remixing their ingredients, as a data scientist, we have a ton of different ways we can engineer features with our variables. Here are a few common methods:\n",
    "\n",
    "- Arethmetic Interaction (addition, subtraction, division, or multiplication of variables)\n",
    "- Binning (grouping variables in ranges)\n",
    "- Creative Features (alternative metrics for evaluation)"
   ]
  },
  {
   "cell_type": "code",
   "execution_count": null,
   "metadata": {},
   "outputs": [],
   "source": []
  }
 ],
 "metadata": {
  "kernelspec": {
   "display_name": "Python 3",
   "language": "python",
   "name": "python3"
  },
  "language_info": {
   "codemirror_mode": {
    "name": "ipython",
    "version": 3
   },
   "file_extension": ".py",
   "mimetype": "text/x-python",
   "name": "python",
   "nbconvert_exporter": "python",
   "pygments_lexer": "ipython3",
   "version": "3.8.15"
  }
 },
 "nbformat": 4,
 "nbformat_minor": 4
}

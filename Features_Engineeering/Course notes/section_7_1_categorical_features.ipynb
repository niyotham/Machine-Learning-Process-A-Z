{
 "cells": [
  {
   "cell_type": "markdown",
   "metadata": {
    "papermill": {
     "duration": 0.010481,
     "end_time": "2022-12-01T18:25:25.142415",
     "exception": false,
     "start_time": "2022-12-01T18:25:25.131934",
     "status": "completed"
    },
    "tags": []
   },
   "source": [
    "# Categorical Features\n",
    "\n",
    "AirBnB is a company that operates an online marketplace for lodging, primarily homestays for vacation rentals, and tourism activities. In this section, we'll be using AirBnB New York City data to learn about how to handle categorical variables. Each row in this dataset will correspond to a specific home or apartment. The dataset will contain a number of variables surrounding an AirBnB home, such as price, number of reviews, minimum nights required, etc. \n",
    "\n",
    "In this notebook, we'll cover the following categorical variable encoding techniques:\n",
    "- One Hot Encoding\n",
    "- Ordinal Encoding\n",
    "- Frequency Encoding\n",
    "- Target Encoding\n",
    "- Probability Ratio Encoding\n",
    "- Weight of Evidence Encoder\n",
    "- Binning\n",
    "\n",
    "This a companion notebook for the 365 Data Science Course \"Machine Learning Process A-Z\". In the course, there is a video walkthrough of this notebook as well as theory and definitions of each of the techinques. We've designed this notebook to be a stand alone learning tool, but if you're interested in the additional features of the paid course, you can access it at a discount here: https://365datascience.com/learn-machine-learning-process-a-z/\n",
    "\n",
    "Let's get started!\n",
    "\n",
    "## Import Libraries\n",
    "\n",
    "We'll first need to import the relevant libraries."
   ]
  },
  {
   "cell_type": "code",
   "execution_count": 1,
   "metadata": {
    "execution": {
     "iopub.execute_input": "2022-12-01T18:25:25.164011Z",
     "iopub.status.busy": "2022-12-01T18:25:25.163442Z",
     "iopub.status.idle": "2022-12-01T18:25:25.182884Z",
     "shell.execute_reply": "2022-12-01T18:25:25.181984Z"
    },
    "papermill": {
     "duration": 0.032894,
     "end_time": "2022-12-01T18:25:25.184763",
     "exception": false,
     "start_time": "2022-12-01T18:25:25.151869",
     "status": "completed"
    },
    "tags": []
   },
   "outputs": [],
   "source": [
    "import pandas as pd\n",
    "import numpy as np \n",
    "import matplotlib.pyplot as plt"
   ]
  },
  {
   "cell_type": "markdown",
   "metadata": {
    "papermill": {
     "duration": 0.009868,
     "end_time": "2022-12-01T18:25:25.203639",
     "exception": false,
     "start_time": "2022-12-01T18:25:25.193771",
     "status": "completed"
    },
    "tags": []
   },
   "source": [
    "## Load Data\n",
    "\n",
    "Next, we'll need to load our AirBnb dataset. "
   ]
  },
  {
   "cell_type": "code",
   "execution_count": 2,
   "metadata": {
    "execution": {
     "iopub.execute_input": "2022-12-01T18:25:25.223981Z",
     "iopub.status.busy": "2022-12-01T18:25:25.223653Z",
     "iopub.status.idle": "2022-12-01T18:25:25.540150Z",
     "shell.execute_reply": "2022-12-01T18:25:25.539093Z"
    },
    "papermill": {
     "duration": 0.329542,
     "end_time": "2022-12-01T18:25:25.542663",
     "exception": false,
     "start_time": "2022-12-01T18:25:25.213121",
     "status": "completed"
    },
    "tags": []
   },
   "outputs": [
    {
     "data": {
      "text/html": [
       "<div>\n",
       "<style scoped>\n",
       "    .dataframe tbody tr th:only-of-type {\n",
       "        vertical-align: middle;\n",
       "    }\n",
       "\n",
       "    .dataframe tbody tr th {\n",
       "        vertical-align: top;\n",
       "    }\n",
       "\n",
       "    .dataframe thead th {\n",
       "        text-align: right;\n",
       "    }\n",
       "</style>\n",
       "<table border=\"1\" class=\"dataframe\">\n",
       "  <thead>\n",
       "    <tr style=\"text-align: right;\">\n",
       "      <th></th>\n",
       "      <th>Unnamed: 0</th>\n",
       "      <th>id</th>\n",
       "      <th>name</th>\n",
       "      <th>host_id</th>\n",
       "      <th>host_name</th>\n",
       "      <th>neighbourhood_group</th>\n",
       "      <th>neighbourhood</th>\n",
       "      <th>latitude</th>\n",
       "      <th>longitude</th>\n",
       "      <th>room_type</th>\n",
       "      <th>price</th>\n",
       "      <th>minimum_nights</th>\n",
       "      <th>number_of_reviews</th>\n",
       "      <th>last_review</th>\n",
       "      <th>reviews_per_month</th>\n",
       "      <th>calculated_host_listings_count</th>\n",
       "      <th>availability_365</th>\n",
       "      <th>expensive</th>\n",
       "    </tr>\n",
       "  </thead>\n",
       "  <tbody>\n",
       "    <tr>\n",
       "      <th>0</th>\n",
       "      <td>0</td>\n",
       "      <td>2539</td>\n",
       "      <td>Clean &amp; quiet apt home by the park</td>\n",
       "      <td>2787</td>\n",
       "      <td>John</td>\n",
       "      <td>Brooklyn</td>\n",
       "      <td>Kensington</td>\n",
       "      <td>40.64749</td>\n",
       "      <td>-73.97237</td>\n",
       "      <td>Private room</td>\n",
       "      <td>149</td>\n",
       "      <td>1</td>\n",
       "      <td>9</td>\n",
       "      <td>2018-10-19</td>\n",
       "      <td>0.21</td>\n",
       "      <td>6</td>\n",
       "      <td>365</td>\n",
       "      <td>non-expensive</td>\n",
       "    </tr>\n",
       "    <tr>\n",
       "      <th>1</th>\n",
       "      <td>1</td>\n",
       "      <td>2595</td>\n",
       "      <td>Skylit Midtown Castle</td>\n",
       "      <td>2845</td>\n",
       "      <td>Jennifer</td>\n",
       "      <td>Manhattan</td>\n",
       "      <td>Midtown</td>\n",
       "      <td>40.75362</td>\n",
       "      <td>-73.98377</td>\n",
       "      <td>Entire home/apt</td>\n",
       "      <td>225</td>\n",
       "      <td>1</td>\n",
       "      <td>45</td>\n",
       "      <td>2019-05-21</td>\n",
       "      <td>0.38</td>\n",
       "      <td>2</td>\n",
       "      <td>355</td>\n",
       "      <td>expensive</td>\n",
       "    </tr>\n",
       "    <tr>\n",
       "      <th>2</th>\n",
       "      <td>2</td>\n",
       "      <td>3647</td>\n",
       "      <td>THE VILLAGE OF HARLEM....NEW YORK !</td>\n",
       "      <td>4632</td>\n",
       "      <td>Elisabeth</td>\n",
       "      <td>Manhattan</td>\n",
       "      <td>Harlem</td>\n",
       "      <td>40.80902</td>\n",
       "      <td>-73.94190</td>\n",
       "      <td>Private room</td>\n",
       "      <td>150</td>\n",
       "      <td>3</td>\n",
       "      <td>0</td>\n",
       "      <td>NaN</td>\n",
       "      <td>NaN</td>\n",
       "      <td>1</td>\n",
       "      <td>365</td>\n",
       "      <td>non-expensive</td>\n",
       "    </tr>\n",
       "    <tr>\n",
       "      <th>3</th>\n",
       "      <td>3</td>\n",
       "      <td>3831</td>\n",
       "      <td>Cozy Entire Floor of Brownstone</td>\n",
       "      <td>4869</td>\n",
       "      <td>LisaRoxanne</td>\n",
       "      <td>Brooklyn</td>\n",
       "      <td>Clinton Hill</td>\n",
       "      <td>40.68514</td>\n",
       "      <td>-73.95976</td>\n",
       "      <td>Entire home/apt</td>\n",
       "      <td>89</td>\n",
       "      <td>1</td>\n",
       "      <td>270</td>\n",
       "      <td>2019-07-05</td>\n",
       "      <td>4.64</td>\n",
       "      <td>1</td>\n",
       "      <td>194</td>\n",
       "      <td>non-expensive</td>\n",
       "    </tr>\n",
       "    <tr>\n",
       "      <th>4</th>\n",
       "      <td>4</td>\n",
       "      <td>5022</td>\n",
       "      <td>Entire Apt: Spacious Studio/Loft by central park</td>\n",
       "      <td>7192</td>\n",
       "      <td>Laura</td>\n",
       "      <td>Manhattan</td>\n",
       "      <td>East Harlem</td>\n",
       "      <td>40.79851</td>\n",
       "      <td>-73.94399</td>\n",
       "      <td>Entire home/apt</td>\n",
       "      <td>80</td>\n",
       "      <td>10</td>\n",
       "      <td>9</td>\n",
       "      <td>2018-11-19</td>\n",
       "      <td>0.10</td>\n",
       "      <td>1</td>\n",
       "      <td>0</td>\n",
       "      <td>non-expensive</td>\n",
       "    </tr>\n",
       "  </tbody>\n",
       "</table>\n",
       "</div>"
      ],
      "text/plain": [
       "   Unnamed: 0    id                                              name  \\\n",
       "0           0  2539                Clean & quiet apt home by the park   \n",
       "1           1  2595                             Skylit Midtown Castle   \n",
       "2           2  3647               THE VILLAGE OF HARLEM....NEW YORK !   \n",
       "3           3  3831                   Cozy Entire Floor of Brownstone   \n",
       "4           4  5022  Entire Apt: Spacious Studio/Loft by central park   \n",
       "\n",
       "   host_id    host_name neighbourhood_group neighbourhood  latitude  \\\n",
       "0     2787         John            Brooklyn    Kensington  40.64749   \n",
       "1     2845     Jennifer           Manhattan       Midtown  40.75362   \n",
       "2     4632    Elisabeth           Manhattan        Harlem  40.80902   \n",
       "3     4869  LisaRoxanne            Brooklyn  Clinton Hill  40.68514   \n",
       "4     7192        Laura           Manhattan   East Harlem  40.79851   \n",
       "\n",
       "   longitude        room_type  price  minimum_nights  number_of_reviews  \\\n",
       "0  -73.97237     Private room    149               1                  9   \n",
       "1  -73.98377  Entire home/apt    225               1                 45   \n",
       "2  -73.94190     Private room    150               3                  0   \n",
       "3  -73.95976  Entire home/apt     89               1                270   \n",
       "4  -73.94399  Entire home/apt     80              10                  9   \n",
       "\n",
       "  last_review  reviews_per_month  calculated_host_listings_count  \\\n",
       "0  2018-10-19               0.21                               6   \n",
       "1  2019-05-21               0.38                               2   \n",
       "2         NaN                NaN                               1   \n",
       "3  2019-07-05               4.64                               1   \n",
       "4  2018-11-19               0.10                               1   \n",
       "\n",
       "   availability_365      expensive  \n",
       "0               365  non-expensive  \n",
       "1               355      expensive  \n",
       "2               365  non-expensive  \n",
       "3               194  non-expensive  \n",
       "4                 0  non-expensive  "
      ]
     },
     "execution_count": 2,
     "metadata": {},
     "output_type": "execute_result"
    }
   ],
   "source": [
    "df = pd.read_csv(\"airbnb_dataset_ml_process.csv\")\n",
    "\n",
    "df.head()"
   ]
  },
  {
   "cell_type": "markdown",
   "metadata": {
    "papermill": {
     "duration": 0.010418,
     "end_time": "2022-12-01T18:25:25.566037",
     "exception": false,
     "start_time": "2022-12-01T18:25:25.555619",
     "status": "completed"
    },
    "tags": []
   },
   "source": [
    "## Data Pre-Processing"
   ]
  },
  {
   "cell_type": "code",
   "execution_count": 3,
   "metadata": {
    "execution": {
     "iopub.execute_input": "2022-12-01T18:25:25.587700Z",
     "iopub.status.busy": "2022-12-01T18:25:25.587077Z",
     "iopub.status.idle": "2022-12-01T18:25:25.669815Z",
     "shell.execute_reply": "2022-12-01T18:25:25.668894Z"
    },
    "papermill": {
     "duration": 0.096318,
     "end_time": "2022-12-01T18:25:25.672082",
     "exception": false,
     "start_time": "2022-12-01T18:25:25.575764",
     "status": "completed"
    },
    "tags": []
   },
   "outputs": [],
   "source": [
    "df.replace([np.inf, -np.inf], np.nan, inplace=True)\n",
    "df = df.dropna()"
   ]
  },
  {
   "cell_type": "markdown",
   "metadata": {
    "papermill": {
     "duration": 0.009083,
     "end_time": "2022-12-01T18:25:25.690901",
     "exception": false,
     "start_time": "2022-12-01T18:25:25.681818",
     "status": "completed"
    },
    "tags": []
   },
   "source": [
    "## Cross-Validation"
   ]
  },
  {
   "cell_type": "code",
   "execution_count": 4,
   "metadata": {
    "execution": {
     "iopub.execute_input": "2022-12-01T18:25:25.711558Z",
     "iopub.status.busy": "2022-12-01T18:25:25.711093Z",
     "iopub.status.idle": "2022-12-01T18:25:26.867350Z",
     "shell.execute_reply": "2022-12-01T18:25:26.865132Z"
    },
    "papermill": {
     "duration": 1.169822,
     "end_time": "2022-12-01T18:25:26.870096",
     "exception": false,
     "start_time": "2022-12-01T18:25:25.700274",
     "status": "completed"
    },
    "tags": []
   },
   "outputs": [],
   "source": [
    "from sklearn.model_selection import train_test_split\n",
    "\n",
    "X = df.drop(['price'], axis = 1)\n",
    "y = df['price']\n",
    "\n",
    "X_train, X_test, y_train, y_test = train_test_split(X, y, test_size = 0.33, random_state = 42)"
   ]
  },
  {
   "cell_type": "markdown",
   "metadata": {
    "papermill": {
     "duration": 0.009642,
     "end_time": "2022-12-01T18:25:26.893580",
     "exception": false,
     "start_time": "2022-12-01T18:25:26.883938",
     "status": "completed"
    },
    "tags": []
   },
   "source": [
    "## One Hot Encoding\n",
    "\n",
    "The first technique we'll dive into is one hot encoding. One hot encoding is the simplest form of encoding categorical variables. In this case, we'll look at the categorical column `expensive`. \n",
    "\n",
    "### One Categorical Variable\n",
    "\n",
    "You'll see, that this column is denoted by two values, either expensive or not expensive. Let's say we wanted to one hot encode this column, what would it look like? "
   ]
  },
  {
   "cell_type": "code",
   "execution_count": 5,
   "metadata": {
    "execution": {
     "iopub.execute_input": "2022-12-01T18:25:26.914748Z",
     "iopub.status.busy": "2022-12-01T18:25:26.913857Z",
     "iopub.status.idle": "2022-12-01T18:25:26.926739Z",
     "shell.execute_reply": "2022-12-01T18:25:26.925904Z"
    },
    "papermill": {
     "duration": 0.025934,
     "end_time": "2022-12-01T18:25:26.928919",
     "exception": false,
     "start_time": "2022-12-01T18:25:26.902985",
     "status": "completed"
    },
    "tags": []
   },
   "outputs": [],
   "source": [
    "#create a categorical based on a threshold we set\n",
    "#we are using a lambda function for this. Lambdas allow us to write a function without defining it\n",
    "#we are also using a ternary operator. This allows us to write a conditional statement in 1 line of code \n",
    "df['expensive'] = df['price'].apply(lambda x: 'expensive' if x > 175 else 'non-expensive')"
   ]
  },
  {
   "cell_type": "code",
   "execution_count": 6,
   "metadata": {
    "execution": {
     "iopub.execute_input": "2022-12-01T18:25:26.950415Z",
     "iopub.status.busy": "2022-12-01T18:25:26.950024Z",
     "iopub.status.idle": "2022-12-01T18:25:26.976336Z",
     "shell.execute_reply": "2022-12-01T18:25:26.975406Z"
    },
    "papermill": {
     "duration": 0.039254,
     "end_time": "2022-12-01T18:25:26.978195",
     "exception": false,
     "start_time": "2022-12-01T18:25:26.938941",
     "status": "completed"
    },
    "tags": []
   },
   "outputs": [
    {
     "data": {
      "text/plain": [
       "expensive\n",
       "expensive        311.277369\n",
       "non-expensive     92.569628\n",
       "Name: price, dtype: float64"
      ]
     },
     "execution_count": 6,
     "metadata": {},
     "output_type": "execute_result"
    }
   ],
   "source": [
    "df.groupby(['expensive']).mean()['price']"
   ]
  },
  {
   "cell_type": "markdown",
   "metadata": {
    "papermill": {
     "duration": 0.012349,
     "end_time": "2022-12-01T18:25:27.003611",
     "exception": false,
     "start_time": "2022-12-01T18:25:26.991262",
     "status": "completed"
    },
    "tags": []
   },
   "source": [
    "Creating a one-hot encoded variable will turn each one of these values into its own column, and then denote 0 or 1 if the row contains the column:"
   ]
  },
  {
   "cell_type": "code",
   "execution_count": 7,
   "metadata": {
    "execution": {
     "iopub.execute_input": "2022-12-01T18:25:27.029423Z",
     "iopub.status.busy": "2022-12-01T18:25:27.028171Z",
     "iopub.status.idle": "2022-12-01T18:25:27.055875Z",
     "shell.execute_reply": "2022-12-01T18:25:27.054924Z"
    },
    "papermill": {
     "duration": 0.0442,
     "end_time": "2022-12-01T18:25:27.059002",
     "exception": false,
     "start_time": "2022-12-01T18:25:27.014802",
     "status": "completed"
    },
    "tags": []
   },
   "outputs": [
    {
     "data": {
      "text/html": [
       "<div>\n",
       "<style scoped>\n",
       "    .dataframe tbody tr th:only-of-type {\n",
       "        vertical-align: middle;\n",
       "    }\n",
       "\n",
       "    .dataframe tbody tr th {\n",
       "        vertical-align: top;\n",
       "    }\n",
       "\n",
       "    .dataframe thead th {\n",
       "        text-align: right;\n",
       "    }\n",
       "</style>\n",
       "<table border=\"1\" class=\"dataframe\">\n",
       "  <thead>\n",
       "    <tr style=\"text-align: right;\">\n",
       "      <th></th>\n",
       "      <th>expensive</th>\n",
       "      <th>non-expensive</th>\n",
       "    </tr>\n",
       "  </thead>\n",
       "  <tbody>\n",
       "    <tr>\n",
       "      <th>0</th>\n",
       "      <td>0</td>\n",
       "      <td>1</td>\n",
       "    </tr>\n",
       "    <tr>\n",
       "      <th>1</th>\n",
       "      <td>1</td>\n",
       "      <td>0</td>\n",
       "    </tr>\n",
       "    <tr>\n",
       "      <th>3</th>\n",
       "      <td>0</td>\n",
       "      <td>1</td>\n",
       "    </tr>\n",
       "    <tr>\n",
       "      <th>4</th>\n",
       "      <td>0</td>\n",
       "      <td>1</td>\n",
       "    </tr>\n",
       "    <tr>\n",
       "      <th>5</th>\n",
       "      <td>1</td>\n",
       "      <td>0</td>\n",
       "    </tr>\n",
       "  </tbody>\n",
       "</table>\n",
       "</div>"
      ],
      "text/plain": [
       "   expensive  non-expensive\n",
       "0          0              1\n",
       "1          1              0\n",
       "3          0              1\n",
       "4          0              1\n",
       "5          1              0"
      ]
     },
     "execution_count": 7,
     "metadata": {},
     "output_type": "execute_result"
    }
   ],
   "source": [
    "dummies = pd.get_dummies(df['expensive'])\n",
    "\n",
    "hot_encoded_single_df = pd.concat([df.drop(['expensive'],axis=1),dummies], axis = 1)\n",
    "\n",
    "dummies.head()"
   ]
  },
  {
   "cell_type": "code",
   "execution_count": 8,
   "metadata": {
    "execution": {
     "iopub.execute_input": "2022-12-01T18:25:27.080768Z",
     "iopub.status.busy": "2022-12-01T18:25:27.080363Z",
     "iopub.status.idle": "2022-12-01T18:25:27.114201Z",
     "shell.execute_reply": "2022-12-01T18:25:27.112547Z"
    },
    "papermill": {
     "duration": 0.047642,
     "end_time": "2022-12-01T18:25:27.116679",
     "exception": false,
     "start_time": "2022-12-01T18:25:27.069037",
     "status": "completed"
    },
    "tags": []
   },
   "outputs": [],
   "source": [
    "X = hot_encoded_single_df.drop(['price'], axis = 1)\n",
    "y = hot_encoded_single_df['price']\n",
    "\n",
    "X_train_dummy, X_test_dummy, y_train_dummy, y_test_dummy = train_test_split(X, y, test_size = 0.33, random_state = 42)"
   ]
  },
  {
   "cell_type": "code",
   "execution_count": 9,
   "metadata": {
    "execution": {
     "iopub.execute_input": "2022-12-01T18:25:27.138139Z",
     "iopub.status.busy": "2022-12-01T18:25:27.137790Z",
     "iopub.status.idle": "2022-12-01T18:25:27.158345Z",
     "shell.execute_reply": "2022-12-01T18:25:27.157074Z"
    },
    "papermill": {
     "duration": 0.034339,
     "end_time": "2022-12-01T18:25:27.160882",
     "exception": false,
     "start_time": "2022-12-01T18:25:27.126543",
     "status": "completed"
    },
    "tags": []
   },
   "outputs": [
    {
     "data": {
      "text/html": [
       "<div>\n",
       "<style scoped>\n",
       "    .dataframe tbody tr th:only-of-type {\n",
       "        vertical-align: middle;\n",
       "    }\n",
       "\n",
       "    .dataframe tbody tr th {\n",
       "        vertical-align: top;\n",
       "    }\n",
       "\n",
       "    .dataframe thead th {\n",
       "        text-align: right;\n",
       "    }\n",
       "</style>\n",
       "<table border=\"1\" class=\"dataframe\">\n",
       "  <thead>\n",
       "    <tr style=\"text-align: right;\">\n",
       "      <th></th>\n",
       "      <th>id</th>\n",
       "      <th>name</th>\n",
       "      <th>host_id</th>\n",
       "      <th>host_name</th>\n",
       "      <th>neighbourhood_group</th>\n",
       "      <th>neighbourhood</th>\n",
       "      <th>latitude</th>\n",
       "      <th>longitude</th>\n",
       "      <th>room_type</th>\n",
       "      <th>minimum_nights</th>\n",
       "      <th>number_of_reviews</th>\n",
       "      <th>last_review</th>\n",
       "      <th>reviews_per_month</th>\n",
       "      <th>calculated_host_listings_count</th>\n",
       "      <th>availability_365</th>\n",
       "      <th>expensive</th>\n",
       "      <th>non-expensive</th>\n",
       "    </tr>\n",
       "  </thead>\n",
       "  <tbody>\n",
       "    <tr>\n",
       "      <th>32728</th>\n",
       "      <td>25785298</td>\n",
       "      <td>Spacious room in Williamsburg (10min to Manhat...</td>\n",
       "      <td>889683</td>\n",
       "      <td>Rachel</td>\n",
       "      <td>Brooklyn</td>\n",
       "      <td>Williamsburg</td>\n",
       "      <td>40.71264</td>\n",
       "      <td>-73.94889</td>\n",
       "      <td>Private room</td>\n",
       "      <td>1</td>\n",
       "      <td>71</td>\n",
       "      <td>2019-06-21</td>\n",
       "      <td>5.37</td>\n",
       "      <td>2</td>\n",
       "      <td>51</td>\n",
       "      <td>0</td>\n",
       "      <td>1</td>\n",
       "    </tr>\n",
       "    <tr>\n",
       "      <th>26365</th>\n",
       "      <td>21005699</td>\n",
       "      <td>Vics cafe</td>\n",
       "      <td>45044964</td>\n",
       "      <td>Victor</td>\n",
       "      <td>Queens</td>\n",
       "      <td>Queens Village</td>\n",
       "      <td>40.72517</td>\n",
       "      <td>-73.76105</td>\n",
       "      <td>Shared room</td>\n",
       "      <td>1</td>\n",
       "      <td>11</td>\n",
       "      <td>2019-06-03</td>\n",
       "      <td>0.51</td>\n",
       "      <td>2</td>\n",
       "      <td>125</td>\n",
       "      <td>0</td>\n",
       "      <td>1</td>\n",
       "    </tr>\n",
       "    <tr>\n",
       "      <th>22249</th>\n",
       "      <td>17940198</td>\n",
       "      <td>Cozy, queen sized bedroom in Bed-Stuy</td>\n",
       "      <td>24383863</td>\n",
       "      <td>Sophia</td>\n",
       "      <td>Brooklyn</td>\n",
       "      <td>Bedford-Stuyvesant</td>\n",
       "      <td>40.69471</td>\n",
       "      <td>-73.94406</td>\n",
       "      <td>Private room</td>\n",
       "      <td>2</td>\n",
       "      <td>24</td>\n",
       "      <td>2019-06-25</td>\n",
       "      <td>0.98</td>\n",
       "      <td>1</td>\n",
       "      <td>1</td>\n",
       "      <td>0</td>\n",
       "      <td>1</td>\n",
       "    </tr>\n",
       "    <tr>\n",
       "      <th>6170</th>\n",
       "      <td>4513084</td>\n",
       "      <td>Beautiful Sunny Private Penthouse Suite</td>\n",
       "      <td>23401472</td>\n",
       "      <td>Heather</td>\n",
       "      <td>Manhattan</td>\n",
       "      <td>Harlem</td>\n",
       "      <td>40.82624</td>\n",
       "      <td>-73.94527</td>\n",
       "      <td>Entire home/apt</td>\n",
       "      <td>30</td>\n",
       "      <td>1</td>\n",
       "      <td>2016-07-30</td>\n",
       "      <td>0.03</td>\n",
       "      <td>2</td>\n",
       "      <td>244</td>\n",
       "      <td>0</td>\n",
       "      <td>1</td>\n",
       "    </tr>\n",
       "    <tr>\n",
       "      <th>27267</th>\n",
       "      <td>21540496</td>\n",
       "      <td>Stylish 1 BD - 10 min to Manhattan &amp; Central Park</td>\n",
       "      <td>156587568</td>\n",
       "      <td>Anna</td>\n",
       "      <td>Queens</td>\n",
       "      <td>Astoria</td>\n",
       "      <td>40.76129</td>\n",
       "      <td>-73.92009</td>\n",
       "      <td>Entire home/apt</td>\n",
       "      <td>1</td>\n",
       "      <td>56</td>\n",
       "      <td>2019-06-14</td>\n",
       "      <td>2.73</td>\n",
       "      <td>1</td>\n",
       "      <td>126</td>\n",
       "      <td>0</td>\n",
       "      <td>1</td>\n",
       "    </tr>\n",
       "  </tbody>\n",
       "</table>\n",
       "</div>"
      ],
      "text/plain": [
       "             id                                               name    host_id  \\\n",
       "32728  25785298  Spacious room in Williamsburg (10min to Manhat...     889683   \n",
       "26365  21005699                                          Vics cafe   45044964   \n",
       "22249  17940198              Cozy, queen sized bedroom in Bed-Stuy   24383863   \n",
       "6170    4513084            Beautiful Sunny Private Penthouse Suite   23401472   \n",
       "27267  21540496  Stylish 1 BD - 10 min to Manhattan & Central Park  156587568   \n",
       "\n",
       "      host_name neighbourhood_group       neighbourhood  latitude  longitude  \\\n",
       "32728    Rachel            Brooklyn        Williamsburg  40.71264  -73.94889   \n",
       "26365    Victor              Queens      Queens Village  40.72517  -73.76105   \n",
       "22249    Sophia            Brooklyn  Bedford-Stuyvesant  40.69471  -73.94406   \n",
       "6170    Heather           Manhattan              Harlem  40.82624  -73.94527   \n",
       "27267      Anna              Queens             Astoria  40.76129  -73.92009   \n",
       "\n",
       "             room_type  minimum_nights  number_of_reviews last_review  \\\n",
       "32728     Private room               1                 71  2019-06-21   \n",
       "26365      Shared room               1                 11  2019-06-03   \n",
       "22249     Private room               2                 24  2019-06-25   \n",
       "6170   Entire home/apt              30                  1  2016-07-30   \n",
       "27267  Entire home/apt               1                 56  2019-06-14   \n",
       "\n",
       "       reviews_per_month  calculated_host_listings_count  availability_365  \\\n",
       "32728               5.37                               2                51   \n",
       "26365               0.51                               2               125   \n",
       "22249               0.98                               1                 1   \n",
       "6170                0.03                               2               244   \n",
       "27267               2.73                               1               126   \n",
       "\n",
       "       expensive  non-expensive  \n",
       "32728          0              1  \n",
       "26365          0              1  \n",
       "22249          0              1  \n",
       "6170           0              1  \n",
       "27267          0              1  "
      ]
     },
     "execution_count": 9,
     "metadata": {},
     "output_type": "execute_result"
    }
   ],
   "source": [
    "X_train_dummy.head()"
   ]
  },
  {
   "cell_type": "markdown",
   "metadata": {
    "papermill": {
     "duration": 0.009944,
     "end_time": "2022-12-01T18:25:27.182324",
     "exception": false,
     "start_time": "2022-12-01T18:25:27.172380",
     "status": "completed"
    },
    "tags": []
   },
   "source": [
    "### Multiple Categorical Variables\n",
    "\n",
    "Now, let's look at a different column with many, many possible categories: `neighbourhood`. You'll see that if we one hot encoded neighborhood, this would create 221 new columns. For some models, this would significantly increase the complexity of both the dataset and the model when training. This is called high **cardinality**. This could result in overfitting, large memory consumption or slow training times: "
   ]
  },
  {
   "cell_type": "code",
   "execution_count": 10,
   "metadata": {
    "execution": {
     "iopub.execute_input": "2022-12-01T18:25:27.211126Z",
     "iopub.status.busy": "2022-12-01T18:25:27.210769Z",
     "iopub.status.idle": "2022-12-01T18:25:27.283681Z",
     "shell.execute_reply": "2022-12-01T18:25:27.281803Z"
    },
    "papermill": {
     "duration": 0.090202,
     "end_time": "2022-12-01T18:25:27.286483",
     "exception": false,
     "start_time": "2022-12-01T18:25:27.196281",
     "status": "completed"
    },
    "tags": []
   },
   "outputs": [
    {
     "data": {
      "text/plain": [
       "Index(['Allerton', 'Arden Heights', 'Arrochar', 'Arverne', 'Astoria',\n",
       "       'Bath Beach', 'Battery Park City', 'Bay Ridge', 'Bay Terrace',\n",
       "       'Bay Terrace, Staten Island',\n",
       "       ...\n",
       "       'Westchester Square', 'Westerleigh', 'Whitestone', 'Williamsbridge',\n",
       "       'Williamsburg', 'Willowbrook', 'Windsor Terrace', 'Woodhaven',\n",
       "       'Woodlawn', 'Woodside'],\n",
       "      dtype='object', length=218)"
      ]
     },
     "execution_count": 10,
     "metadata": {},
     "output_type": "execute_result"
    }
   ],
   "source": [
    "mult_hot_enc = pd.get_dummies(df['neighbourhood'])\n",
    "\n",
    "hot_encoded_df = pd.concat([df,mult_hot_enc], axis = 1)\n",
    "\n",
    "mult_cols = mult_hot_enc.columns\n",
    "\n",
    "mult_cols"
   ]
  },
  {
   "cell_type": "code",
   "execution_count": 11,
   "metadata": {
    "execution": {
     "iopub.execute_input": "2022-12-01T18:25:27.310846Z",
     "iopub.status.busy": "2022-12-01T18:25:27.310498Z",
     "iopub.status.idle": "2022-12-01T18:25:27.410564Z",
     "shell.execute_reply": "2022-12-01T18:25:27.408585Z"
    },
    "papermill": {
     "duration": 0.115458,
     "end_time": "2022-12-01T18:25:27.413225",
     "exception": false,
     "start_time": "2022-12-01T18:25:27.297767",
     "status": "completed"
    },
    "tags": []
   },
   "outputs": [],
   "source": [
    "X = hot_encoded_df.drop(['price'], axis = 1)\n",
    "y = hot_encoded_df['price']\n",
    "\n",
    "X_train_me, X_test_me, y_train_me, y_test_me = train_test_split(X, y, test_size = 0.33, random_state = 42)"
   ]
  },
  {
   "cell_type": "markdown",
   "metadata": {
    "papermill": {
     "duration": 0.009929,
     "end_time": "2022-12-01T18:25:27.433573",
     "exception": false,
     "start_time": "2022-12-01T18:25:27.423644",
     "status": "completed"
    },
    "tags": []
   },
   "source": [
    "### Ordinal Encoding\n",
    "\n",
    "There are a number of solutions to solving the cardinality problem. The first one is ordinal encoding. Ordinal encoding is a method of replacing categories with numbers. However, these numbers have an inherent ordering to them. Think, high school -> college -> grad_school as categorical variables with na inherent ordering. Luckily, sklearn has already written an implementation of ordinal encoding:"
   ]
  },
  {
   "cell_type": "code",
   "execution_count": 12,
   "metadata": {
    "execution": {
     "iopub.execute_input": "2022-12-01T18:25:27.455363Z",
     "iopub.status.busy": "2022-12-01T18:25:27.455020Z",
     "iopub.status.idle": "2022-12-01T18:25:27.468183Z",
     "shell.execute_reply": "2022-12-01T18:25:27.466532Z"
    },
    "papermill": {
     "duration": 0.026786,
     "end_time": "2022-12-01T18:25:27.470632",
     "exception": false,
     "start_time": "2022-12-01T18:25:27.443846",
     "status": "completed"
    },
    "tags": []
   },
   "outputs": [],
   "source": [
    "df_ord = df.copy()\n",
    "\n",
    "ord_encodings = {\n",
    "    'Entire home/apt':0,\n",
    "    'Private room':1,\n",
    "    'Shared room':2,\n",
    "}\n",
    "\n",
    "df_ord['room_type_ord_enc'] = df_ord['room_type'].map(ord_encodings)"
   ]
  },
  {
   "cell_type": "code",
   "execution_count": 13,
   "metadata": {
    "execution": {
     "iopub.execute_input": "2022-12-01T18:25:27.493192Z",
     "iopub.status.busy": "2022-12-01T18:25:27.492830Z",
     "iopub.status.idle": "2022-12-01T18:25:27.523835Z",
     "shell.execute_reply": "2022-12-01T18:25:27.522307Z"
    },
    "papermill": {
     "duration": 0.044949,
     "end_time": "2022-12-01T18:25:27.526114",
     "exception": false,
     "start_time": "2022-12-01T18:25:27.481165",
     "status": "completed"
    },
    "tags": []
   },
   "outputs": [],
   "source": [
    "X = df_ord.drop(['price'], axis = 1)\n",
    "y = df_ord['price']\n",
    "\n",
    "X_train_ord, X_test_ord, y_train_ord, y_test_ord = train_test_split(X, y, test_size = 0.33, random_state = 42)"
   ]
  },
  {
   "cell_type": "markdown",
   "metadata": {
    "papermill": {
     "duration": 0.010122,
     "end_time": "2022-12-01T18:25:27.546682",
     "exception": false,
     "start_time": "2022-12-01T18:25:27.536560",
     "status": "completed"
    },
    "tags": []
   },
   "source": [
    "### Frequency Encoding\n",
    "\n",
    "Another technique to address the cardinality issue is frequency encoding. Rather than replace our categorical variables with ordinal variables, we're going to replace our categories with the frequency in which they occur. See here, we'll see how many times each neighborhood appears:"
   ]
  },
  {
   "cell_type": "code",
   "execution_count": 14,
   "metadata": {
    "execution": {
     "iopub.execute_input": "2022-12-01T18:25:27.569065Z",
     "iopub.status.busy": "2022-12-01T18:25:27.568717Z",
     "iopub.status.idle": "2022-12-01T18:25:27.579918Z",
     "shell.execute_reply": "2022-12-01T18:25:27.579037Z"
    },
    "papermill": {
     "duration": 0.024815,
     "end_time": "2022-12-01T18:25:27.581965",
     "exception": false,
     "start_time": "2022-12-01T18:25:27.557150",
     "status": "completed"
    },
    "tags": []
   },
   "outputs": [
    {
     "data": {
      "text/plain": [
       "neighbourhood\n",
       "Allerton            25\n",
       "Arden Heights        4\n",
       "Arrochar            14\n",
       "Arverne             43\n",
       "Astoria            480\n",
       "                  ... \n",
       "Willowbrook          1\n",
       "Windsor Terrace     79\n",
       "Woodhaven           44\n",
       "Woodlawn             8\n",
       "Woodside           119\n",
       "Length: 215, dtype: int64"
      ]
     },
     "execution_count": 14,
     "metadata": {},
     "output_type": "execute_result"
    }
   ],
   "source": [
    "frequency_encoder = X_train.groupby(['neighbourhood']).size()\n",
    "\n",
    "frequency_encoder"
   ]
  },
  {
   "cell_type": "markdown",
   "metadata": {
    "papermill": {
     "duration": 0.010903,
     "end_time": "2022-12-01T18:25:27.603281",
     "exception": false,
     "start_time": "2022-12-01T18:25:27.592378",
     "status": "completed"
    },
    "tags": []
   },
   "source": [
    "Then, we can replace our categories with these different frequencies:"
   ]
  },
  {
   "cell_type": "code",
   "execution_count": 15,
   "metadata": {
    "execution": {
     "iopub.execute_input": "2022-12-01T18:25:27.625501Z",
     "iopub.status.busy": "2022-12-01T18:25:27.625195Z",
     "iopub.status.idle": "2022-12-01T18:25:27.637757Z",
     "shell.execute_reply": "2022-12-01T18:25:27.636726Z"
    },
    "papermill": {
     "duration": 0.026379,
     "end_time": "2022-12-01T18:25:27.639897",
     "exception": false,
     "start_time": "2022-12-01T18:25:27.613518",
     "status": "completed"
    },
    "tags": []
   },
   "outputs": [
    {
     "data": {
      "text/plain": [
       "5576      580.0\n",
       "7729      284.0\n",
       "2020     2143.0\n",
       "4195     2143.0\n",
       "9758     2143.0\n",
       "          ...  \n",
       "43519     669.0\n",
       "10297     669.0\n",
       "36169     550.0\n",
       "32098     995.0\n",
       "37697    1489.0\n",
       "Name: neighbourhood, Length: 12811, dtype: float64"
      ]
     },
     "execution_count": 15,
     "metadata": {},
     "output_type": "execute_result"
    }
   ],
   "source": [
    "X_test['neighbourhood'] = X_test['neighbourhood'].map(frequency_encoder)\n",
    "\n",
    "X_test['neighbourhood']"
   ]
  },
  {
   "cell_type": "markdown",
   "metadata": {
    "papermill": {
     "duration": 0.010191,
     "end_time": "2022-12-01T18:25:27.660206",
     "exception": false,
     "start_time": "2022-12-01T18:25:27.650015",
     "status": "completed"
    },
    "tags": []
   },
   "source": [
    "At the time of writing this notebook, I couldn't find an implementation of this, so I wrote one on my own:"
   ]
  },
  {
   "cell_type": "code",
   "execution_count": 16,
   "metadata": {
    "execution": {
     "iopub.execute_input": "2022-12-01T18:25:27.683642Z",
     "iopub.status.busy": "2022-12-01T18:25:27.683208Z",
     "iopub.status.idle": "2022-12-01T18:25:27.710035Z",
     "shell.execute_reply": "2022-12-01T18:25:27.708291Z"
    },
    "papermill": {
     "duration": 0.040941,
     "end_time": "2022-12-01T18:25:27.712077",
     "exception": false,
     "start_time": "2022-12-01T18:25:27.671136",
     "status": "completed"
    },
    "tags": []
   },
   "outputs": [
    {
     "data": {
      "text/plain": [
       "5576     0.0\n",
       "7729     0.0\n",
       "2020     0.0\n",
       "4195     0.0\n",
       "9758     0.0\n",
       "        ... \n",
       "43519    0.0\n",
       "10297    0.0\n",
       "36169    0.0\n",
       "32098    0.0\n",
       "37697    0.0\n",
       "Name: neighbourhood_freq, Length: 12811, dtype: float64"
      ]
     },
     "execution_count": 16,
     "metadata": {},
     "output_type": "execute_result"
    }
   ],
   "source": [
    "class FrequencyEncoder:\n",
    "    def fit(self, train_df, column):\n",
    "        self.train_df = train_df\n",
    "        self.column = column\n",
    "        self.frequency_encodings = None\n",
    "        \n",
    "    def _compute_frequency(self):\n",
    "        self.frequency_encodings = self.train_df.groupby([self.column]).size()\n",
    "        \n",
    "    def transform(self, test_df, column, fillna = True):\n",
    "        self._compute_frequency()\n",
    "        \n",
    "        col_name = column + '_freq'\n",
    "        test_df[col_name] = test_df[column].map(self.frequency_encodings)\n",
    "        \n",
    "        if fillna is True:\n",
    "            test_df[col_name] = test_df[col_name].fillna(0)\n",
    "        \n",
    "        return test_df\n",
    "\n",
    "fe = FrequencyEncoder()\n",
    "fe.fit(X_train, column = 'neighbourhood')\n",
    "\n",
    "# Transform Datasets\n",
    "X_train_freq_enc = fe.transform(X_train, column='neighbourhood')\n",
    "X_test_freq_enc = fe.transform(X_test, column='neighbourhood')\n",
    "\n",
    "X_test_freq_enc['neighbourhood_freq']"
   ]
  },
  {
   "cell_type": "markdown",
   "metadata": {
    "papermill": {
     "duration": 0.010254,
     "end_time": "2022-12-01T18:25:27.733913",
     "exception": false,
     "start_time": "2022-12-01T18:25:27.723659",
     "status": "completed"
    },
    "tags": []
   },
   "source": [
    "### Target Encoding\n",
    "\n",
    "Another method of encoding is called Target Encoding. Earlier, we learned about frequency encoding, where we encode the number of instances a category occurs as its value. Rather than encode the number of instances a category occurs, we can encode the mean of our target variable, like this:"
   ]
  },
  {
   "cell_type": "code",
   "execution_count": 17,
   "metadata": {
    "execution": {
     "iopub.execute_input": "2022-12-01T18:25:27.756142Z",
     "iopub.status.busy": "2022-12-01T18:25:27.755621Z",
     "iopub.status.idle": "2022-12-01T18:25:27.775976Z",
     "shell.execute_reply": "2022-12-01T18:25:27.775088Z"
    },
    "papermill": {
     "duration": 0.033918,
     "end_time": "2022-12-01T18:25:27.778016",
     "exception": false,
     "start_time": "2022-12-01T18:25:27.744098",
     "status": "completed"
    },
    "tags": []
   },
   "outputs": [
    {
     "data": {
      "text/plain": [
       "neighbourhood\n",
       "Allerton            90.594595\n",
       "Arden Heights       67.250000\n",
       "Arrochar           118.250000\n",
       "Arverne            158.515152\n",
       "Astoria            116.018336\n",
       "                      ...    \n",
       "Willowbrook        249.000000\n",
       "Windsor Terrace    130.687500\n",
       "Woodhaven           62.722222\n",
       "Woodlawn            60.090909\n",
       "Woodside            89.852941\n",
       "Name: price, Length: 218, dtype: float64"
      ]
     },
     "execution_count": 17,
     "metadata": {},
     "output_type": "execute_result"
    }
   ],
   "source": [
    "df.groupby(['neighbourhood']).mean()['price']"
   ]
  },
  {
   "cell_type": "markdown",
   "metadata": {
    "papermill": {
     "duration": 0.010432,
     "end_time": "2022-12-01T18:25:27.799310",
     "exception": false,
     "start_time": "2022-12-01T18:25:27.788878",
     "status": "completed"
    },
    "tags": []
   },
   "source": [
    "Similar to before, I couldn't find an implementation online, so I wrote one myself that you can re-use:"
   ]
  },
  {
   "cell_type": "code",
   "execution_count": 18,
   "metadata": {
    "execution": {
     "iopub.execute_input": "2022-12-01T18:25:27.822530Z",
     "iopub.status.busy": "2022-12-01T18:25:27.822190Z",
     "iopub.status.idle": "2022-12-01T18:25:27.892792Z",
     "shell.execute_reply": "2022-12-01T18:25:27.891435Z"
    },
    "papermill": {
     "duration": 0.085255,
     "end_time": "2022-12-01T18:25:27.894999",
     "exception": false,
     "start_time": "2022-12-01T18:25:27.809744",
     "status": "completed"
    },
    "tags": []
   },
   "outputs": [
    {
     "data": {
      "text/html": [
       "<div>\n",
       "<style scoped>\n",
       "    .dataframe tbody tr th:only-of-type {\n",
       "        vertical-align: middle;\n",
       "    }\n",
       "\n",
       "    .dataframe tbody tr th {\n",
       "        vertical-align: top;\n",
       "    }\n",
       "\n",
       "    .dataframe thead th {\n",
       "        text-align: right;\n",
       "    }\n",
       "</style>\n",
       "<table border=\"1\" class=\"dataframe\">\n",
       "  <thead>\n",
       "    <tr style=\"text-align: right;\">\n",
       "      <th></th>\n",
       "      <th>id</th>\n",
       "      <th>name</th>\n",
       "      <th>host_id</th>\n",
       "      <th>host_name</th>\n",
       "      <th>neighbourhood_group</th>\n",
       "      <th>neighbourhood</th>\n",
       "      <th>latitude</th>\n",
       "      <th>longitude</th>\n",
       "      <th>room_type</th>\n",
       "      <th>price</th>\n",
       "      <th>minimum_nights</th>\n",
       "      <th>number_of_reviews</th>\n",
       "      <th>last_review</th>\n",
       "      <th>reviews_per_month</th>\n",
       "      <th>calculated_host_listings_count</th>\n",
       "      <th>availability_365</th>\n",
       "      <th>expensive</th>\n",
       "      <th>neighbourhood_target_enc</th>\n",
       "    </tr>\n",
       "  </thead>\n",
       "  <tbody>\n",
       "    <tr>\n",
       "      <th>5576</th>\n",
       "      <td>4053517</td>\n",
       "      <td>Two-Bedroom Greenpoint Apartment</td>\n",
       "      <td>3967335</td>\n",
       "      <td>Molly</td>\n",
       "      <td>Brooklyn</td>\n",
       "      <td>Greenpoint</td>\n",
       "      <td>40.72527</td>\n",
       "      <td>-73.95016</td>\n",
       "      <td>Entire home/apt</td>\n",
       "      <td>174</td>\n",
       "      <td>2</td>\n",
       "      <td>31</td>\n",
       "      <td>2019-06-02</td>\n",
       "      <td>0.54</td>\n",
       "      <td>2</td>\n",
       "      <td>12</td>\n",
       "      <td>non-expensive</td>\n",
       "      <td>150.825862</td>\n",
       "    </tr>\n",
       "    <tr>\n",
       "      <th>7729</th>\n",
       "      <td>5849991</td>\n",
       "      <td>3 bedroom Apt at $249 per Night.</td>\n",
       "      <td>9898029</td>\n",
       "      <td>Anthony</td>\n",
       "      <td>Brooklyn</td>\n",
       "      <td>East Flatbush</td>\n",
       "      <td>40.65041</td>\n",
       "      <td>-73.92574</td>\n",
       "      <td>Entire home/apt</td>\n",
       "      <td>249</td>\n",
       "      <td>3</td>\n",
       "      <td>10</td>\n",
       "      <td>2019-06-03</td>\n",
       "      <td>0.65</td>\n",
       "      <td>5</td>\n",
       "      <td>156</td>\n",
       "      <td>expensive</td>\n",
       "      <td>116.848592</td>\n",
       "    </tr>\n",
       "    <tr>\n",
       "      <th>2020</th>\n",
       "      <td>894015</td>\n",
       "      <td>Boldera: Your Home Away From Home</td>\n",
       "      <td>4622027</td>\n",
       "      <td>Damon And Kent</td>\n",
       "      <td>Brooklyn</td>\n",
       "      <td>Bedford-Stuyvesant</td>\n",
       "      <td>40.68194</td>\n",
       "      <td>-73.92896</td>\n",
       "      <td>Entire home/apt</td>\n",
       "      <td>107</td>\n",
       "      <td>2</td>\n",
       "      <td>147</td>\n",
       "      <td>2019-06-22</td>\n",
       "      <td>1.89</td>\n",
       "      <td>1</td>\n",
       "      <td>27</td>\n",
       "      <td>non-expensive</td>\n",
       "      <td>108.736351</td>\n",
       "    </tr>\n",
       "    <tr>\n",
       "      <th>4195</th>\n",
       "      <td>2730497</td>\n",
       "      <td>Entire Private Garden Floor of Brownstone</td>\n",
       "      <td>13974214</td>\n",
       "      <td>Jonathan</td>\n",
       "      <td>Brooklyn</td>\n",
       "      <td>Bedford-Stuyvesant</td>\n",
       "      <td>40.68058</td>\n",
       "      <td>-73.93856</td>\n",
       "      <td>Entire home/apt</td>\n",
       "      <td>130</td>\n",
       "      <td>3</td>\n",
       "      <td>92</td>\n",
       "      <td>2019-06-19</td>\n",
       "      <td>1.45</td>\n",
       "      <td>1</td>\n",
       "      <td>248</td>\n",
       "      <td>non-expensive</td>\n",
       "      <td>108.736351</td>\n",
       "    </tr>\n",
       "    <tr>\n",
       "      <th>9758</th>\n",
       "      <td>7500571</td>\n",
       "      <td>Gorgeous 1 Bedroom in Bed-Stuy</td>\n",
       "      <td>39288710</td>\n",
       "      <td>Audra</td>\n",
       "      <td>Brooklyn</td>\n",
       "      <td>Bedford-Stuyvesant</td>\n",
       "      <td>40.68544</td>\n",
       "      <td>-73.93872</td>\n",
       "      <td>Entire home/apt</td>\n",
       "      <td>102</td>\n",
       "      <td>3</td>\n",
       "      <td>64</td>\n",
       "      <td>2019-06-24</td>\n",
       "      <td>1.38</td>\n",
       "      <td>1</td>\n",
       "      <td>296</td>\n",
       "      <td>non-expensive</td>\n",
       "      <td>108.736351</td>\n",
       "    </tr>\n",
       "    <tr>\n",
       "      <th>...</th>\n",
       "      <td>...</td>\n",
       "      <td>...</td>\n",
       "      <td>...</td>\n",
       "      <td>...</td>\n",
       "      <td>...</td>\n",
       "      <td>...</td>\n",
       "      <td>...</td>\n",
       "      <td>...</td>\n",
       "      <td>...</td>\n",
       "      <td>...</td>\n",
       "      <td>...</td>\n",
       "      <td>...</td>\n",
       "      <td>...</td>\n",
       "      <td>...</td>\n",
       "      <td>...</td>\n",
       "      <td>...</td>\n",
       "      <td>...</td>\n",
       "      <td>...</td>\n",
       "    </tr>\n",
       "    <tr>\n",
       "      <th>43519</th>\n",
       "      <td>33701468</td>\n",
       "      <td>Best Location! Spacious 3BR in Center of NYC!</td>\n",
       "      <td>253128090</td>\n",
       "      <td>Harvy Jake</td>\n",
       "      <td>Manhattan</td>\n",
       "      <td>Midtown</td>\n",
       "      <td>40.76167</td>\n",
       "      <td>-73.96944</td>\n",
       "      <td>Entire home/apt</td>\n",
       "      <td>149</td>\n",
       "      <td>2</td>\n",
       "      <td>7</td>\n",
       "      <td>2019-06-14</td>\n",
       "      <td>2.63</td>\n",
       "      <td>1</td>\n",
       "      <td>163</td>\n",
       "      <td>non-expensive</td>\n",
       "      <td>265.881913</td>\n",
       "    </tr>\n",
       "    <tr>\n",
       "      <th>10297</th>\n",
       "      <td>7880998</td>\n",
       "      <td>NoMad One Bedroom on Park Ave</td>\n",
       "      <td>41543076</td>\n",
       "      <td>Kelsey</td>\n",
       "      <td>Manhattan</td>\n",
       "      <td>Midtown</td>\n",
       "      <td>40.74321</td>\n",
       "      <td>-73.98474</td>\n",
       "      <td>Entire home/apt</td>\n",
       "      <td>175</td>\n",
       "      <td>7</td>\n",
       "      <td>1</td>\n",
       "      <td>2016-07-01</td>\n",
       "      <td>0.03</td>\n",
       "      <td>1</td>\n",
       "      <td>0</td>\n",
       "      <td>non-expensive</td>\n",
       "      <td>265.881913</td>\n",
       "    </tr>\n",
       "    <tr>\n",
       "      <th>36169</th>\n",
       "      <td>28754650</td>\n",
       "      <td>NYC Chelsea</td>\n",
       "      <td>216891728</td>\n",
       "      <td>Sonia</td>\n",
       "      <td>Manhattan</td>\n",
       "      <td>Chelsea</td>\n",
       "      <td>40.74580</td>\n",
       "      <td>-73.99570</td>\n",
       "      <td>Entire home/apt</td>\n",
       "      <td>140</td>\n",
       "      <td>32</td>\n",
       "      <td>29</td>\n",
       "      <td>2019-07-02</td>\n",
       "      <td>3.94</td>\n",
       "      <td>1</td>\n",
       "      <td>2</td>\n",
       "      <td>non-expensive</td>\n",
       "      <td>222.045455</td>\n",
       "    </tr>\n",
       "    <tr>\n",
       "      <th>32098</th>\n",
       "      <td>25075529</td>\n",
       "      <td>Comfy cozy studio in LES</td>\n",
       "      <td>164668733</td>\n",
       "      <td>Amalia</td>\n",
       "      <td>Manhattan</td>\n",
       "      <td>East Village</td>\n",
       "      <td>40.72228</td>\n",
       "      <td>-73.98584</td>\n",
       "      <td>Entire home/apt</td>\n",
       "      <td>125</td>\n",
       "      <td>5</td>\n",
       "      <td>3</td>\n",
       "      <td>2018-08-19</td>\n",
       "      <td>0.24</td>\n",
       "      <td>1</td>\n",
       "      <td>0</td>\n",
       "      <td>non-expensive</td>\n",
       "      <td>174.694472</td>\n",
       "    </tr>\n",
       "    <tr>\n",
       "      <th>37697</th>\n",
       "      <td>29881973</td>\n",
       "      <td>Small Full Sized Bedroom in Historic Manhattan</td>\n",
       "      <td>223715716</td>\n",
       "      <td>James</td>\n",
       "      <td>Manhattan</td>\n",
       "      <td>Harlem</td>\n",
       "      <td>40.82424</td>\n",
       "      <td>-73.93753</td>\n",
       "      <td>Private room</td>\n",
       "      <td>35</td>\n",
       "      <td>7</td>\n",
       "      <td>1</td>\n",
       "      <td>2019-06-17</td>\n",
       "      <td>1.00</td>\n",
       "      <td>1</td>\n",
       "      <td>0</td>\n",
       "      <td>non-expensive</td>\n",
       "      <td>115.132975</td>\n",
       "    </tr>\n",
       "  </tbody>\n",
       "</table>\n",
       "<p>12811 rows × 18 columns</p>\n",
       "</div>"
      ],
      "text/plain": [
       "             id                                            name    host_id  \\\n",
       "5576    4053517                Two-Bedroom Greenpoint Apartment    3967335   \n",
       "7729    5849991                3 bedroom Apt at $249 per Night.    9898029   \n",
       "2020     894015               Boldera: Your Home Away From Home    4622027   \n",
       "4195    2730497       Entire Private Garden Floor of Brownstone   13974214   \n",
       "9758    7500571                  Gorgeous 1 Bedroom in Bed-Stuy   39288710   \n",
       "...         ...                                             ...        ...   \n",
       "43519  33701468   Best Location! Spacious 3BR in Center of NYC!  253128090   \n",
       "10297   7880998                   NoMad One Bedroom on Park Ave   41543076   \n",
       "36169  28754650                                     NYC Chelsea  216891728   \n",
       "32098  25075529                        Comfy cozy studio in LES  164668733   \n",
       "37697  29881973  Small Full Sized Bedroom in Historic Manhattan  223715716   \n",
       "\n",
       "            host_name neighbourhood_group       neighbourhood  latitude  \\\n",
       "5576            Molly            Brooklyn          Greenpoint  40.72527   \n",
       "7729          Anthony            Brooklyn       East Flatbush  40.65041   \n",
       "2020   Damon And Kent            Brooklyn  Bedford-Stuyvesant  40.68194   \n",
       "4195         Jonathan            Brooklyn  Bedford-Stuyvesant  40.68058   \n",
       "9758            Audra            Brooklyn  Bedford-Stuyvesant  40.68544   \n",
       "...               ...                 ...                 ...       ...   \n",
       "43519      Harvy Jake           Manhattan             Midtown  40.76167   \n",
       "10297          Kelsey           Manhattan             Midtown  40.74321   \n",
       "36169           Sonia           Manhattan             Chelsea  40.74580   \n",
       "32098          Amalia           Manhattan        East Village  40.72228   \n",
       "37697           James           Manhattan              Harlem  40.82424   \n",
       "\n",
       "       longitude        room_type  price  minimum_nights  number_of_reviews  \\\n",
       "5576   -73.95016  Entire home/apt    174               2                 31   \n",
       "7729   -73.92574  Entire home/apt    249               3                 10   \n",
       "2020   -73.92896  Entire home/apt    107               2                147   \n",
       "4195   -73.93856  Entire home/apt    130               3                 92   \n",
       "9758   -73.93872  Entire home/apt    102               3                 64   \n",
       "...          ...              ...    ...             ...                ...   \n",
       "43519  -73.96944  Entire home/apt    149               2                  7   \n",
       "10297  -73.98474  Entire home/apt    175               7                  1   \n",
       "36169  -73.99570  Entire home/apt    140              32                 29   \n",
       "32098  -73.98584  Entire home/apt    125               5                  3   \n",
       "37697  -73.93753     Private room     35               7                  1   \n",
       "\n",
       "      last_review  reviews_per_month  calculated_host_listings_count  \\\n",
       "5576   2019-06-02               0.54                               2   \n",
       "7729   2019-06-03               0.65                               5   \n",
       "2020   2019-06-22               1.89                               1   \n",
       "4195   2019-06-19               1.45                               1   \n",
       "9758   2019-06-24               1.38                               1   \n",
       "...           ...                ...                             ...   \n",
       "43519  2019-06-14               2.63                               1   \n",
       "10297  2016-07-01               0.03                               1   \n",
       "36169  2019-07-02               3.94                               1   \n",
       "32098  2018-08-19               0.24                               1   \n",
       "37697  2019-06-17               1.00                               1   \n",
       "\n",
       "       availability_365      expensive  neighbourhood_target_enc  \n",
       "5576                 12  non-expensive                150.825862  \n",
       "7729                156      expensive                116.848592  \n",
       "2020                 27  non-expensive                108.736351  \n",
       "4195                248  non-expensive                108.736351  \n",
       "9758                296  non-expensive                108.736351  \n",
       "...                 ...            ...                       ...  \n",
       "43519               163  non-expensive                265.881913  \n",
       "10297                 0  non-expensive                265.881913  \n",
       "36169                 2  non-expensive                222.045455  \n",
       "32098                 0  non-expensive                174.694472  \n",
       "37697                 0  non-expensive                115.132975  \n",
       "\n",
       "[12811 rows x 18 columns]"
      ]
     },
     "execution_count": 18,
     "metadata": {},
     "output_type": "execute_result"
    }
   ],
   "source": [
    "df_te = df.copy()\n",
    "\n",
    "class TargetEncoder:\n",
    "    def fit(self, train_df, target_col, categ_col):\n",
    "        self.train_df = train_df\n",
    "        self.target_col = target_col\n",
    "        self.categ_col = categ_col\n",
    "        self.target_encodings = None\n",
    "        \n",
    "    def transform(self, test_df, column = None, fillna = True):\n",
    "        if column is None:\n",
    "            column = self.categ_col\n",
    "        \n",
    "        self.target_encodings = self.train_df.groupby([self.categ_col]).mean()[self.target_col]\n",
    "\n",
    "        col_name = column + '_target_enc'\n",
    "        test_df.loc[:,col_name] = test_df[column].map(self.target_encodings)\n",
    "        \n",
    "        if fillna is True:\n",
    "            test_df[col_name] = test_df[col_name].fillna(0)\n",
    "            \n",
    "        return test_df\n",
    "\n",
    "    \n",
    "df_train, df_test = train_test_split(df, test_size = 0.33, random_state = 42)\n",
    "\n",
    "te = TargetEncoder()\n",
    "te.fit(df_train, target_col = 'price', categ_col = 'neighbourhood')\n",
    "\n",
    "X_train_te = te.transform(df_train)\n",
    "X_test_te = te.transform(df_test)\n",
    "\n",
    "X_test_te"
   ]
  },
  {
   "cell_type": "markdown",
   "metadata": {
    "papermill": {
     "duration": 0.010705,
     "end_time": "2022-12-01T18:25:27.916741",
     "exception": false,
     "start_time": "2022-12-01T18:25:27.906036",
     "status": "completed"
    },
    "tags": []
   },
   "source": [
    "### Probability Ratio Encoding\n",
    "\n",
    "Probability Ratio Encoding is similar to target encoding. But rather than using the mean of the target, we're looking at the probability this category is going to be a positive label. Here, we've written out our own implementation:"
   ]
  },
  {
   "cell_type": "code",
   "execution_count": 19,
   "metadata": {
    "execution": {
     "iopub.execute_input": "2022-12-01T18:25:27.939900Z",
     "iopub.status.busy": "2022-12-01T18:25:27.939573Z",
     "iopub.status.idle": "2022-12-01T18:25:27.947240Z",
     "shell.execute_reply": "2022-12-01T18:25:27.946237Z"
    },
    "papermill": {
     "duration": 0.021457,
     "end_time": "2022-12-01T18:25:27.948934",
     "exception": false,
     "start_time": "2022-12-01T18:25:27.927477",
     "status": "completed"
    },
    "tags": []
   },
   "outputs": [],
   "source": [
    "class ProbabilityRatioEncoder:\n",
    "    def fit(self, train_df, categ_col, target_col):\n",
    "        self.train_df = train_df.copy()\n",
    "        self.categ_col = categ_col\n",
    "        self.target_col = target_col\n",
    "        self.ratio_encoder = None\n",
    "        \n",
    "    def transform(self, test_df, constant = 0, fillna = True):\n",
    "        totals = self.train_df.groupby([self.categ_col]).size() \n",
    "        sums = self.train_df.groupby([self.categ_col]).sum()[self.target_col]\n",
    "        self.ratio_encoder = ((sums+ constant)/totals)/(1-(sums+ constant)/totals)\n",
    "        \n",
    "        col_name = self.categ_col + '_prob_ratio'\n",
    "        test_df.loc[:,col_name] = test_df[self.categ_col].map(self.ratio_encoder)\n",
    "        \n",
    "        if fillna is True:\n",
    "            test_df.replace([np.inf, -np.inf], np.nan, inplace=True)\n",
    "            test_df[col_name] = test_df[col_name].fillna(0)\n",
    "            \n",
    "        return test_df"
   ]
  },
  {
   "cell_type": "code",
   "execution_count": 20,
   "metadata": {
    "execution": {
     "iopub.execute_input": "2022-12-01T18:25:27.972556Z",
     "iopub.status.busy": "2022-12-01T18:25:27.972027Z",
     "iopub.status.idle": "2022-12-01T18:25:28.002593Z",
     "shell.execute_reply": "2022-12-01T18:25:28.001088Z"
    },
    "papermill": {
     "duration": 0.045017,
     "end_time": "2022-12-01T18:25:28.004995",
     "exception": false,
     "start_time": "2022-12-01T18:25:27.959978",
     "status": "completed"
    },
    "tags": []
   },
   "outputs": [],
   "source": [
    "## Ignore, creating a categorical target variable\n",
    "target_variable = pd.get_dummies(df['expensive'])\n",
    "\n",
    "df_pe = pd.concat([df.drop(['expensive'],axis = 1),target_variable], axis = 1)\n",
    "df_pe = df_pe.drop(['non-expensive'], axis = 1)"
   ]
  },
  {
   "cell_type": "code",
   "execution_count": 21,
   "metadata": {
    "execution": {
     "iopub.execute_input": "2022-12-01T18:25:28.030107Z",
     "iopub.status.busy": "2022-12-01T18:25:28.029575Z",
     "iopub.status.idle": "2022-12-01T18:25:28.142167Z",
     "shell.execute_reply": "2022-12-01T18:25:28.141517Z"
    },
    "papermill": {
     "duration": 0.126913,
     "end_time": "2022-12-01T18:25:28.143695",
     "exception": false,
     "start_time": "2022-12-01T18:25:28.016782",
     "status": "completed"
    },
    "tags": []
   },
   "outputs": [
    {
     "data": {
      "text/html": [
       "<div>\n",
       "<style scoped>\n",
       "    .dataframe tbody tr th:only-of-type {\n",
       "        vertical-align: middle;\n",
       "    }\n",
       "\n",
       "    .dataframe tbody tr th {\n",
       "        vertical-align: top;\n",
       "    }\n",
       "\n",
       "    .dataframe thead th {\n",
       "        text-align: right;\n",
       "    }\n",
       "</style>\n",
       "<table border=\"1\" class=\"dataframe\">\n",
       "  <thead>\n",
       "    <tr style=\"text-align: right;\">\n",
       "      <th></th>\n",
       "      <th>id</th>\n",
       "      <th>name</th>\n",
       "      <th>host_id</th>\n",
       "      <th>host_name</th>\n",
       "      <th>neighbourhood_group</th>\n",
       "      <th>neighbourhood</th>\n",
       "      <th>latitude</th>\n",
       "      <th>longitude</th>\n",
       "      <th>room_type</th>\n",
       "      <th>price</th>\n",
       "      <th>minimum_nights</th>\n",
       "      <th>number_of_reviews</th>\n",
       "      <th>last_review</th>\n",
       "      <th>reviews_per_month</th>\n",
       "      <th>calculated_host_listings_count</th>\n",
       "      <th>availability_365</th>\n",
       "      <th>expensive</th>\n",
       "      <th>neighbourhood_prob_ratio</th>\n",
       "    </tr>\n",
       "  </thead>\n",
       "  <tbody>\n",
       "    <tr>\n",
       "      <th>5576</th>\n",
       "      <td>4053517</td>\n",
       "      <td>Two-Bedroom Greenpoint Apartment</td>\n",
       "      <td>3967335</td>\n",
       "      <td>Molly</td>\n",
       "      <td>Brooklyn</td>\n",
       "      <td>Greenpoint</td>\n",
       "      <td>40.72527</td>\n",
       "      <td>-73.95016</td>\n",
       "      <td>Entire home/apt</td>\n",
       "      <td>174</td>\n",
       "      <td>2</td>\n",
       "      <td>31</td>\n",
       "      <td>2019-06-02</td>\n",
       "      <td>0.54</td>\n",
       "      <td>2</td>\n",
       "      <td>12</td>\n",
       "      <td>0</td>\n",
       "      <td>0.269147</td>\n",
       "    </tr>\n",
       "    <tr>\n",
       "      <th>7729</th>\n",
       "      <td>5849991</td>\n",
       "      <td>3 bedroom Apt at $249 per Night.</td>\n",
       "      <td>9898029</td>\n",
       "      <td>Anthony</td>\n",
       "      <td>Brooklyn</td>\n",
       "      <td>East Flatbush</td>\n",
       "      <td>40.65041</td>\n",
       "      <td>-73.92574</td>\n",
       "      <td>Entire home/apt</td>\n",
       "      <td>249</td>\n",
       "      <td>3</td>\n",
       "      <td>10</td>\n",
       "      <td>2019-06-03</td>\n",
       "      <td>0.65</td>\n",
       "      <td>5</td>\n",
       "      <td>156</td>\n",
       "      <td>1</td>\n",
       "      <td>0.075758</td>\n",
       "    </tr>\n",
       "    <tr>\n",
       "      <th>2020</th>\n",
       "      <td>894015</td>\n",
       "      <td>Boldera: Your Home Away From Home</td>\n",
       "      <td>4622027</td>\n",
       "      <td>Damon And Kent</td>\n",
       "      <td>Brooklyn</td>\n",
       "      <td>Bedford-Stuyvesant</td>\n",
       "      <td>40.68194</td>\n",
       "      <td>-73.92896</td>\n",
       "      <td>Entire home/apt</td>\n",
       "      <td>107</td>\n",
       "      <td>2</td>\n",
       "      <td>147</td>\n",
       "      <td>2019-06-22</td>\n",
       "      <td>1.89</td>\n",
       "      <td>1</td>\n",
       "      <td>27</td>\n",
       "      <td>0</td>\n",
       "      <td>0.113247</td>\n",
       "    </tr>\n",
       "    <tr>\n",
       "      <th>4195</th>\n",
       "      <td>2730497</td>\n",
       "      <td>Entire Private Garden Floor of Brownstone</td>\n",
       "      <td>13974214</td>\n",
       "      <td>Jonathan</td>\n",
       "      <td>Brooklyn</td>\n",
       "      <td>Bedford-Stuyvesant</td>\n",
       "      <td>40.68058</td>\n",
       "      <td>-73.93856</td>\n",
       "      <td>Entire home/apt</td>\n",
       "      <td>130</td>\n",
       "      <td>3</td>\n",
       "      <td>92</td>\n",
       "      <td>2019-06-19</td>\n",
       "      <td>1.45</td>\n",
       "      <td>1</td>\n",
       "      <td>248</td>\n",
       "      <td>0</td>\n",
       "      <td>0.113247</td>\n",
       "    </tr>\n",
       "    <tr>\n",
       "      <th>9758</th>\n",
       "      <td>7500571</td>\n",
       "      <td>Gorgeous 1 Bedroom in Bed-Stuy</td>\n",
       "      <td>39288710</td>\n",
       "      <td>Audra</td>\n",
       "      <td>Brooklyn</td>\n",
       "      <td>Bedford-Stuyvesant</td>\n",
       "      <td>40.68544</td>\n",
       "      <td>-73.93872</td>\n",
       "      <td>Entire home/apt</td>\n",
       "      <td>102</td>\n",
       "      <td>3</td>\n",
       "      <td>64</td>\n",
       "      <td>2019-06-24</td>\n",
       "      <td>1.38</td>\n",
       "      <td>1</td>\n",
       "      <td>296</td>\n",
       "      <td>0</td>\n",
       "      <td>0.113247</td>\n",
       "    </tr>\n",
       "    <tr>\n",
       "      <th>...</th>\n",
       "      <td>...</td>\n",
       "      <td>...</td>\n",
       "      <td>...</td>\n",
       "      <td>...</td>\n",
       "      <td>...</td>\n",
       "      <td>...</td>\n",
       "      <td>...</td>\n",
       "      <td>...</td>\n",
       "      <td>...</td>\n",
       "      <td>...</td>\n",
       "      <td>...</td>\n",
       "      <td>...</td>\n",
       "      <td>...</td>\n",
       "      <td>...</td>\n",
       "      <td>...</td>\n",
       "      <td>...</td>\n",
       "      <td>...</td>\n",
       "      <td>...</td>\n",
       "    </tr>\n",
       "    <tr>\n",
       "      <th>43519</th>\n",
       "      <td>33701468</td>\n",
       "      <td>Best Location! Spacious 3BR in Center of NYC!</td>\n",
       "      <td>253128090</td>\n",
       "      <td>Harvy Jake</td>\n",
       "      <td>Manhattan</td>\n",
       "      <td>Midtown</td>\n",
       "      <td>40.76167</td>\n",
       "      <td>-73.96944</td>\n",
       "      <td>Entire home/apt</td>\n",
       "      <td>149</td>\n",
       "      <td>2</td>\n",
       "      <td>7</td>\n",
       "      <td>2019-06-14</td>\n",
       "      <td>2.63</td>\n",
       "      <td>1</td>\n",
       "      <td>163</td>\n",
       "      <td>0</td>\n",
       "      <td>1.207921</td>\n",
       "    </tr>\n",
       "    <tr>\n",
       "      <th>10297</th>\n",
       "      <td>7880998</td>\n",
       "      <td>NoMad One Bedroom on Park Ave</td>\n",
       "      <td>41543076</td>\n",
       "      <td>Kelsey</td>\n",
       "      <td>Manhattan</td>\n",
       "      <td>Midtown</td>\n",
       "      <td>40.74321</td>\n",
       "      <td>-73.98474</td>\n",
       "      <td>Entire home/apt</td>\n",
       "      <td>175</td>\n",
       "      <td>7</td>\n",
       "      <td>1</td>\n",
       "      <td>2016-07-01</td>\n",
       "      <td>0.03</td>\n",
       "      <td>1</td>\n",
       "      <td>0</td>\n",
       "      <td>0</td>\n",
       "      <td>1.207921</td>\n",
       "    </tr>\n",
       "    <tr>\n",
       "      <th>36169</th>\n",
       "      <td>28754650</td>\n",
       "      <td>NYC Chelsea</td>\n",
       "      <td>216891728</td>\n",
       "      <td>Sonia</td>\n",
       "      <td>Manhattan</td>\n",
       "      <td>Chelsea</td>\n",
       "      <td>40.74580</td>\n",
       "      <td>-73.99570</td>\n",
       "      <td>Entire home/apt</td>\n",
       "      <td>140</td>\n",
       "      <td>32</td>\n",
       "      <td>29</td>\n",
       "      <td>2019-07-02</td>\n",
       "      <td>3.94</td>\n",
       "      <td>1</td>\n",
       "      <td>2</td>\n",
       "      <td>0</td>\n",
       "      <td>1.182540</td>\n",
       "    </tr>\n",
       "    <tr>\n",
       "      <th>32098</th>\n",
       "      <td>25075529</td>\n",
       "      <td>Comfy cozy studio in LES</td>\n",
       "      <td>164668733</td>\n",
       "      <td>Amalia</td>\n",
       "      <td>Manhattan</td>\n",
       "      <td>East Village</td>\n",
       "      <td>40.72228</td>\n",
       "      <td>-73.98584</td>\n",
       "      <td>Entire home/apt</td>\n",
       "      <td>125</td>\n",
       "      <td>5</td>\n",
       "      <td>3</td>\n",
       "      <td>2018-08-19</td>\n",
       "      <td>0.24</td>\n",
       "      <td>1</td>\n",
       "      <td>0</td>\n",
       "      <td>0</td>\n",
       "      <td>0.554688</td>\n",
       "    </tr>\n",
       "    <tr>\n",
       "      <th>37697</th>\n",
       "      <td>29881973</td>\n",
       "      <td>Small Full Sized Bedroom in Historic Manhattan</td>\n",
       "      <td>223715716</td>\n",
       "      <td>James</td>\n",
       "      <td>Manhattan</td>\n",
       "      <td>Harlem</td>\n",
       "      <td>40.82424</td>\n",
       "      <td>-73.93753</td>\n",
       "      <td>Private room</td>\n",
       "      <td>35</td>\n",
       "      <td>7</td>\n",
       "      <td>1</td>\n",
       "      <td>2019-06-17</td>\n",
       "      <td>1.00</td>\n",
       "      <td>1</td>\n",
       "      <td>0</td>\n",
       "      <td>0</td>\n",
       "      <td>0.138379</td>\n",
       "    </tr>\n",
       "  </tbody>\n",
       "</table>\n",
       "<p>12811 rows × 18 columns</p>\n",
       "</div>"
      ],
      "text/plain": [
       "             id                                            name    host_id  \\\n",
       "5576    4053517                Two-Bedroom Greenpoint Apartment    3967335   \n",
       "7729    5849991                3 bedroom Apt at $249 per Night.    9898029   \n",
       "2020     894015               Boldera: Your Home Away From Home    4622027   \n",
       "4195    2730497       Entire Private Garden Floor of Brownstone   13974214   \n",
       "9758    7500571                  Gorgeous 1 Bedroom in Bed-Stuy   39288710   \n",
       "...         ...                                             ...        ...   \n",
       "43519  33701468   Best Location! Spacious 3BR in Center of NYC!  253128090   \n",
       "10297   7880998                   NoMad One Bedroom on Park Ave   41543076   \n",
       "36169  28754650                                     NYC Chelsea  216891728   \n",
       "32098  25075529                        Comfy cozy studio in LES  164668733   \n",
       "37697  29881973  Small Full Sized Bedroom in Historic Manhattan  223715716   \n",
       "\n",
       "            host_name neighbourhood_group       neighbourhood  latitude  \\\n",
       "5576            Molly            Brooklyn          Greenpoint  40.72527   \n",
       "7729          Anthony            Brooklyn       East Flatbush  40.65041   \n",
       "2020   Damon And Kent            Brooklyn  Bedford-Stuyvesant  40.68194   \n",
       "4195         Jonathan            Brooklyn  Bedford-Stuyvesant  40.68058   \n",
       "9758            Audra            Brooklyn  Bedford-Stuyvesant  40.68544   \n",
       "...               ...                 ...                 ...       ...   \n",
       "43519      Harvy Jake           Manhattan             Midtown  40.76167   \n",
       "10297          Kelsey           Manhattan             Midtown  40.74321   \n",
       "36169           Sonia           Manhattan             Chelsea  40.74580   \n",
       "32098          Amalia           Manhattan        East Village  40.72228   \n",
       "37697           James           Manhattan              Harlem  40.82424   \n",
       "\n",
       "       longitude        room_type  price  minimum_nights  number_of_reviews  \\\n",
       "5576   -73.95016  Entire home/apt    174               2                 31   \n",
       "7729   -73.92574  Entire home/apt    249               3                 10   \n",
       "2020   -73.92896  Entire home/apt    107               2                147   \n",
       "4195   -73.93856  Entire home/apt    130               3                 92   \n",
       "9758   -73.93872  Entire home/apt    102               3                 64   \n",
       "...          ...              ...    ...             ...                ...   \n",
       "43519  -73.96944  Entire home/apt    149               2                  7   \n",
       "10297  -73.98474  Entire home/apt    175               7                  1   \n",
       "36169  -73.99570  Entire home/apt    140              32                 29   \n",
       "32098  -73.98584  Entire home/apt    125               5                  3   \n",
       "37697  -73.93753     Private room     35               7                  1   \n",
       "\n",
       "      last_review  reviews_per_month  calculated_host_listings_count  \\\n",
       "5576   2019-06-02               0.54                               2   \n",
       "7729   2019-06-03               0.65                               5   \n",
       "2020   2019-06-22               1.89                               1   \n",
       "4195   2019-06-19               1.45                               1   \n",
       "9758   2019-06-24               1.38                               1   \n",
       "...           ...                ...                             ...   \n",
       "43519  2019-06-14               2.63                               1   \n",
       "10297  2016-07-01               0.03                               1   \n",
       "36169  2019-07-02               3.94                               1   \n",
       "32098  2018-08-19               0.24                               1   \n",
       "37697  2019-06-17               1.00                               1   \n",
       "\n",
       "       availability_365  expensive  neighbourhood_prob_ratio  \n",
       "5576                 12          0                  0.269147  \n",
       "7729                156          1                  0.075758  \n",
       "2020                 27          0                  0.113247  \n",
       "4195                248          0                  0.113247  \n",
       "9758                296          0                  0.113247  \n",
       "...                 ...        ...                       ...  \n",
       "43519               163          0                  1.207921  \n",
       "10297                 0          0                  1.207921  \n",
       "36169                 2          0                  1.182540  \n",
       "32098                 0          0                  0.554688  \n",
       "37697                 0          0                  0.138379  \n",
       "\n",
       "[12811 rows x 18 columns]"
      ]
     },
     "execution_count": 21,
     "metadata": {},
     "output_type": "execute_result"
    }
   ],
   "source": [
    "df_train, df_test = train_test_split(df_pe, test_size = 0.33, random_state = 42)\n",
    "\n",
    "pre = ProbabilityRatioEncoder()\n",
    "\n",
    "pre.fit(df_train, 'neighbourhood','expensive')\n",
    "df_train_pe = pre.transform(df_train)\n",
    "df_test_pe = pre.transform(df_test)\n",
    "\n",
    "df_test_pe"
   ]
  },
  {
   "cell_type": "markdown",
   "metadata": {
    "papermill": {
     "duration": 0.011018,
     "end_time": "2022-12-01T18:25:28.165903",
     "exception": false,
     "start_time": "2022-12-01T18:25:28.154885",
     "status": "completed"
    },
    "tags": []
   },
   "source": [
    "### Weight of Evidence Encoding\n",
    "\n",
    "Weight of Evidence encoding is similar to probability ratio encoding. The only difference, is we're applying a log transform on top of the probability ratio transformation:"
   ]
  },
  {
   "cell_type": "code",
   "execution_count": 22,
   "metadata": {
    "execution": {
     "iopub.execute_input": "2022-12-01T18:25:28.191961Z",
     "iopub.status.busy": "2022-12-01T18:25:28.191343Z",
     "iopub.status.idle": "2022-12-01T18:25:28.199259Z",
     "shell.execute_reply": "2022-12-01T18:25:28.198198Z"
    },
    "papermill": {
     "duration": 0.023626,
     "end_time": "2022-12-01T18:25:28.201531",
     "exception": false,
     "start_time": "2022-12-01T18:25:28.177905",
     "status": "completed"
    },
    "tags": []
   },
   "outputs": [],
   "source": [
    "class WeightofEvidenceEncoder:\n",
    "    def fit(self, train_df, categ_col, target_col):\n",
    "        self.train_df = train_df\n",
    "        self.categ_col = categ_col\n",
    "        self.target_col = target_col\n",
    "        \n",
    "    def transform(self, test_df, constant = 0, fillna = True):\n",
    "        totals = self.train_df.groupby([self.categ_col]).size() \n",
    "        sums = self.train_df.groupby([self.categ_col]).sum()[self.target_col]\n",
    "\n",
    "        woe_encoder = np.log(((sums+ constant)/totals)/(1-(sums+ constant)/totals))\n",
    "        \n",
    "        col_name = self.categ_col + '_woe'\n",
    "        test_df.loc[:,col_name] = test_df[self.categ_col].map(woe_encoder)\n",
    "        \n",
    "        if fillna is True:\n",
    "            test_df.replace([np.inf, -np.inf], np.nan, inplace=True)\n",
    "            test_df[col_name] = test_df[col_name].fillna(0)\n",
    "        return test_df"
   ]
  },
  {
   "cell_type": "code",
   "execution_count": 23,
   "metadata": {
    "execution": {
     "iopub.execute_input": "2022-12-01T18:25:28.227683Z",
     "iopub.status.busy": "2022-12-01T18:25:28.226760Z",
     "iopub.status.idle": "2022-12-01T18:25:28.256833Z",
     "shell.execute_reply": "2022-12-01T18:25:28.255505Z"
    },
    "papermill": {
     "duration": 0.046022,
     "end_time": "2022-12-01T18:25:28.259302",
     "exception": false,
     "start_time": "2022-12-01T18:25:28.213280",
     "status": "completed"
    },
    "tags": []
   },
   "outputs": [],
   "source": [
    "## Ignore, creating a categorical target variable\n",
    "target_variable = pd.get_dummies(df['expensive'])\n",
    "\n",
    "df_woe = pd.concat([df.drop(['expensive'],axis = 1),target_variable], axis = 1)\n",
    "df_woe = df_woe.drop(['non-expensive'], axis = 1)"
   ]
  },
  {
   "cell_type": "code",
   "execution_count": 24,
   "metadata": {
    "execution": {
     "iopub.execute_input": "2022-12-01T18:25:28.286005Z",
     "iopub.status.busy": "2022-12-01T18:25:28.285632Z",
     "iopub.status.idle": "2022-12-01T18:25:28.396159Z",
     "shell.execute_reply": "2022-12-01T18:25:28.394430Z"
    },
    "papermill": {
     "duration": 0.127349,
     "end_time": "2022-12-01T18:25:28.398675",
     "exception": false,
     "start_time": "2022-12-01T18:25:28.271326",
     "status": "completed"
    },
    "tags": []
   },
   "outputs": [
    {
     "name": "stderr",
     "output_type": "stream",
     "text": [
      "/opt/conda/lib/python3.7/site-packages/pandas/core/arraylike.py:364: RuntimeWarning: invalid value encountered in log\n",
      "  result = getattr(ufunc, method)(*inputs, **kwargs)\n"
     ]
    },
    {
     "data": {
      "text/html": [
       "<div>\n",
       "<style scoped>\n",
       "    .dataframe tbody tr th:only-of-type {\n",
       "        vertical-align: middle;\n",
       "    }\n",
       "\n",
       "    .dataframe tbody tr th {\n",
       "        vertical-align: top;\n",
       "    }\n",
       "\n",
       "    .dataframe thead th {\n",
       "        text-align: right;\n",
       "    }\n",
       "</style>\n",
       "<table border=\"1\" class=\"dataframe\">\n",
       "  <thead>\n",
       "    <tr style=\"text-align: right;\">\n",
       "      <th></th>\n",
       "      <th>id</th>\n",
       "      <th>name</th>\n",
       "      <th>host_id</th>\n",
       "      <th>host_name</th>\n",
       "      <th>neighbourhood_group</th>\n",
       "      <th>neighbourhood</th>\n",
       "      <th>latitude</th>\n",
       "      <th>longitude</th>\n",
       "      <th>room_type</th>\n",
       "      <th>price</th>\n",
       "      <th>minimum_nights</th>\n",
       "      <th>number_of_reviews</th>\n",
       "      <th>last_review</th>\n",
       "      <th>reviews_per_month</th>\n",
       "      <th>calculated_host_listings_count</th>\n",
       "      <th>availability_365</th>\n",
       "      <th>expensive</th>\n",
       "      <th>neighbourhood_woe</th>\n",
       "    </tr>\n",
       "  </thead>\n",
       "  <tbody>\n",
       "    <tr>\n",
       "      <th>5576</th>\n",
       "      <td>4053517</td>\n",
       "      <td>Two-Bedroom Greenpoint Apartment</td>\n",
       "      <td>3967335</td>\n",
       "      <td>Molly</td>\n",
       "      <td>Brooklyn</td>\n",
       "      <td>Greenpoint</td>\n",
       "      <td>40.72527</td>\n",
       "      <td>-73.95016</td>\n",
       "      <td>Entire home/apt</td>\n",
       "      <td>174</td>\n",
       "      <td>2</td>\n",
       "      <td>31</td>\n",
       "      <td>2019-06-02</td>\n",
       "      <td>0.54</td>\n",
       "      <td>2</td>\n",
       "      <td>12</td>\n",
       "      <td>0</td>\n",
       "      <td>-1.312396</td>\n",
       "    </tr>\n",
       "    <tr>\n",
       "      <th>7729</th>\n",
       "      <td>5849991</td>\n",
       "      <td>3 bedroom Apt at $249 per Night.</td>\n",
       "      <td>9898029</td>\n",
       "      <td>Anthony</td>\n",
       "      <td>Brooklyn</td>\n",
       "      <td>East Flatbush</td>\n",
       "      <td>40.65041</td>\n",
       "      <td>-73.92574</td>\n",
       "      <td>Entire home/apt</td>\n",
       "      <td>249</td>\n",
       "      <td>3</td>\n",
       "      <td>10</td>\n",
       "      <td>2019-06-03</td>\n",
       "      <td>0.65</td>\n",
       "      <td>5</td>\n",
       "      <td>156</td>\n",
       "      <td>1</td>\n",
       "      <td>-2.579679</td>\n",
       "    </tr>\n",
       "    <tr>\n",
       "      <th>2020</th>\n",
       "      <td>894015</td>\n",
       "      <td>Boldera: Your Home Away From Home</td>\n",
       "      <td>4622027</td>\n",
       "      <td>Damon And Kent</td>\n",
       "      <td>Brooklyn</td>\n",
       "      <td>Bedford-Stuyvesant</td>\n",
       "      <td>40.68194</td>\n",
       "      <td>-73.92896</td>\n",
       "      <td>Entire home/apt</td>\n",
       "      <td>107</td>\n",
       "      <td>2</td>\n",
       "      <td>147</td>\n",
       "      <td>2019-06-22</td>\n",
       "      <td>1.89</td>\n",
       "      <td>1</td>\n",
       "      <td>27</td>\n",
       "      <td>0</td>\n",
       "      <td>-2.178135</td>\n",
       "    </tr>\n",
       "    <tr>\n",
       "      <th>4195</th>\n",
       "      <td>2730497</td>\n",
       "      <td>Entire Private Garden Floor of Brownstone</td>\n",
       "      <td>13974214</td>\n",
       "      <td>Jonathan</td>\n",
       "      <td>Brooklyn</td>\n",
       "      <td>Bedford-Stuyvesant</td>\n",
       "      <td>40.68058</td>\n",
       "      <td>-73.93856</td>\n",
       "      <td>Entire home/apt</td>\n",
       "      <td>130</td>\n",
       "      <td>3</td>\n",
       "      <td>92</td>\n",
       "      <td>2019-06-19</td>\n",
       "      <td>1.45</td>\n",
       "      <td>1</td>\n",
       "      <td>248</td>\n",
       "      <td>0</td>\n",
       "      <td>-2.178135</td>\n",
       "    </tr>\n",
       "    <tr>\n",
       "      <th>9758</th>\n",
       "      <td>7500571</td>\n",
       "      <td>Gorgeous 1 Bedroom in Bed-Stuy</td>\n",
       "      <td>39288710</td>\n",
       "      <td>Audra</td>\n",
       "      <td>Brooklyn</td>\n",
       "      <td>Bedford-Stuyvesant</td>\n",
       "      <td>40.68544</td>\n",
       "      <td>-73.93872</td>\n",
       "      <td>Entire home/apt</td>\n",
       "      <td>102</td>\n",
       "      <td>3</td>\n",
       "      <td>64</td>\n",
       "      <td>2019-06-24</td>\n",
       "      <td>1.38</td>\n",
       "      <td>1</td>\n",
       "      <td>296</td>\n",
       "      <td>0</td>\n",
       "      <td>-2.178135</td>\n",
       "    </tr>\n",
       "    <tr>\n",
       "      <th>...</th>\n",
       "      <td>...</td>\n",
       "      <td>...</td>\n",
       "      <td>...</td>\n",
       "      <td>...</td>\n",
       "      <td>...</td>\n",
       "      <td>...</td>\n",
       "      <td>...</td>\n",
       "      <td>...</td>\n",
       "      <td>...</td>\n",
       "      <td>...</td>\n",
       "      <td>...</td>\n",
       "      <td>...</td>\n",
       "      <td>...</td>\n",
       "      <td>...</td>\n",
       "      <td>...</td>\n",
       "      <td>...</td>\n",
       "      <td>...</td>\n",
       "      <td>...</td>\n",
       "    </tr>\n",
       "    <tr>\n",
       "      <th>43519</th>\n",
       "      <td>33701468</td>\n",
       "      <td>Best Location! Spacious 3BR in Center of NYC!</td>\n",
       "      <td>253128090</td>\n",
       "      <td>Harvy Jake</td>\n",
       "      <td>Manhattan</td>\n",
       "      <td>Midtown</td>\n",
       "      <td>40.76167</td>\n",
       "      <td>-73.96944</td>\n",
       "      <td>Entire home/apt</td>\n",
       "      <td>149</td>\n",
       "      <td>2</td>\n",
       "      <td>7</td>\n",
       "      <td>2019-06-14</td>\n",
       "      <td>2.63</td>\n",
       "      <td>1</td>\n",
       "      <td>163</td>\n",
       "      <td>0</td>\n",
       "      <td>0.188961</td>\n",
       "    </tr>\n",
       "    <tr>\n",
       "      <th>10297</th>\n",
       "      <td>7880998</td>\n",
       "      <td>NoMad One Bedroom on Park Ave</td>\n",
       "      <td>41543076</td>\n",
       "      <td>Kelsey</td>\n",
       "      <td>Manhattan</td>\n",
       "      <td>Midtown</td>\n",
       "      <td>40.74321</td>\n",
       "      <td>-73.98474</td>\n",
       "      <td>Entire home/apt</td>\n",
       "      <td>175</td>\n",
       "      <td>7</td>\n",
       "      <td>1</td>\n",
       "      <td>2016-07-01</td>\n",
       "      <td>0.03</td>\n",
       "      <td>1</td>\n",
       "      <td>0</td>\n",
       "      <td>0</td>\n",
       "      <td>0.188961</td>\n",
       "    </tr>\n",
       "    <tr>\n",
       "      <th>36169</th>\n",
       "      <td>28754650</td>\n",
       "      <td>NYC Chelsea</td>\n",
       "      <td>216891728</td>\n",
       "      <td>Sonia</td>\n",
       "      <td>Manhattan</td>\n",
       "      <td>Chelsea</td>\n",
       "      <td>40.74580</td>\n",
       "      <td>-73.99570</td>\n",
       "      <td>Entire home/apt</td>\n",
       "      <td>140</td>\n",
       "      <td>32</td>\n",
       "      <td>29</td>\n",
       "      <td>2019-07-02</td>\n",
       "      <td>3.94</td>\n",
       "      <td>1</td>\n",
       "      <td>2</td>\n",
       "      <td>0</td>\n",
       "      <td>0.167738</td>\n",
       "    </tr>\n",
       "    <tr>\n",
       "      <th>32098</th>\n",
       "      <td>25075529</td>\n",
       "      <td>Comfy cozy studio in LES</td>\n",
       "      <td>164668733</td>\n",
       "      <td>Amalia</td>\n",
       "      <td>Manhattan</td>\n",
       "      <td>East Village</td>\n",
       "      <td>40.72228</td>\n",
       "      <td>-73.98584</td>\n",
       "      <td>Entire home/apt</td>\n",
       "      <td>125</td>\n",
       "      <td>5</td>\n",
       "      <td>3</td>\n",
       "      <td>2018-08-19</td>\n",
       "      <td>0.24</td>\n",
       "      <td>1</td>\n",
       "      <td>0</td>\n",
       "      <td>0</td>\n",
       "      <td>-0.589307</td>\n",
       "    </tr>\n",
       "    <tr>\n",
       "      <th>37697</th>\n",
       "      <td>29881973</td>\n",
       "      <td>Small Full Sized Bedroom in Historic Manhattan</td>\n",
       "      <td>223715716</td>\n",
       "      <td>James</td>\n",
       "      <td>Manhattan</td>\n",
       "      <td>Harlem</td>\n",
       "      <td>40.82424</td>\n",
       "      <td>-73.93753</td>\n",
       "      <td>Private room</td>\n",
       "      <td>35</td>\n",
       "      <td>7</td>\n",
       "      <td>1</td>\n",
       "      <td>2019-06-17</td>\n",
       "      <td>1.00</td>\n",
       "      <td>1</td>\n",
       "      <td>0</td>\n",
       "      <td>0</td>\n",
       "      <td>-1.977695</td>\n",
       "    </tr>\n",
       "  </tbody>\n",
       "</table>\n",
       "<p>12811 rows × 18 columns</p>\n",
       "</div>"
      ],
      "text/plain": [
       "             id                                            name    host_id  \\\n",
       "5576    4053517                Two-Bedroom Greenpoint Apartment    3967335   \n",
       "7729    5849991                3 bedroom Apt at $249 per Night.    9898029   \n",
       "2020     894015               Boldera: Your Home Away From Home    4622027   \n",
       "4195    2730497       Entire Private Garden Floor of Brownstone   13974214   \n",
       "9758    7500571                  Gorgeous 1 Bedroom in Bed-Stuy   39288710   \n",
       "...         ...                                             ...        ...   \n",
       "43519  33701468   Best Location! Spacious 3BR in Center of NYC!  253128090   \n",
       "10297   7880998                   NoMad One Bedroom on Park Ave   41543076   \n",
       "36169  28754650                                     NYC Chelsea  216891728   \n",
       "32098  25075529                        Comfy cozy studio in LES  164668733   \n",
       "37697  29881973  Small Full Sized Bedroom in Historic Manhattan  223715716   \n",
       "\n",
       "            host_name neighbourhood_group       neighbourhood  latitude  \\\n",
       "5576            Molly            Brooklyn          Greenpoint  40.72527   \n",
       "7729          Anthony            Brooklyn       East Flatbush  40.65041   \n",
       "2020   Damon And Kent            Brooklyn  Bedford-Stuyvesant  40.68194   \n",
       "4195         Jonathan            Brooklyn  Bedford-Stuyvesant  40.68058   \n",
       "9758            Audra            Brooklyn  Bedford-Stuyvesant  40.68544   \n",
       "...               ...                 ...                 ...       ...   \n",
       "43519      Harvy Jake           Manhattan             Midtown  40.76167   \n",
       "10297          Kelsey           Manhattan             Midtown  40.74321   \n",
       "36169           Sonia           Manhattan             Chelsea  40.74580   \n",
       "32098          Amalia           Manhattan        East Village  40.72228   \n",
       "37697           James           Manhattan              Harlem  40.82424   \n",
       "\n",
       "       longitude        room_type  price  minimum_nights  number_of_reviews  \\\n",
       "5576   -73.95016  Entire home/apt    174               2                 31   \n",
       "7729   -73.92574  Entire home/apt    249               3                 10   \n",
       "2020   -73.92896  Entire home/apt    107               2                147   \n",
       "4195   -73.93856  Entire home/apt    130               3                 92   \n",
       "9758   -73.93872  Entire home/apt    102               3                 64   \n",
       "...          ...              ...    ...             ...                ...   \n",
       "43519  -73.96944  Entire home/apt    149               2                  7   \n",
       "10297  -73.98474  Entire home/apt    175               7                  1   \n",
       "36169  -73.99570  Entire home/apt    140              32                 29   \n",
       "32098  -73.98584  Entire home/apt    125               5                  3   \n",
       "37697  -73.93753     Private room     35               7                  1   \n",
       "\n",
       "      last_review  reviews_per_month  calculated_host_listings_count  \\\n",
       "5576   2019-06-02               0.54                               2   \n",
       "7729   2019-06-03               0.65                               5   \n",
       "2020   2019-06-22               1.89                               1   \n",
       "4195   2019-06-19               1.45                               1   \n",
       "9758   2019-06-24               1.38                               1   \n",
       "...           ...                ...                             ...   \n",
       "43519  2019-06-14               2.63                               1   \n",
       "10297  2016-07-01               0.03                               1   \n",
       "36169  2019-07-02               3.94                               1   \n",
       "32098  2018-08-19               0.24                               1   \n",
       "37697  2019-06-17               1.00                               1   \n",
       "\n",
       "       availability_365  expensive  neighbourhood_woe  \n",
       "5576                 12          0          -1.312396  \n",
       "7729                156          1          -2.579679  \n",
       "2020                 27          0          -2.178135  \n",
       "4195                248          0          -2.178135  \n",
       "9758                296          0          -2.178135  \n",
       "...                 ...        ...                ...  \n",
       "43519               163          0           0.188961  \n",
       "10297                 0          0           0.188961  \n",
       "36169                 2          0           0.167738  \n",
       "32098                 0          0          -0.589307  \n",
       "37697                 0          0          -1.977695  \n",
       "\n",
       "[12811 rows x 18 columns]"
      ]
     },
     "execution_count": 24,
     "metadata": {},
     "output_type": "execute_result"
    }
   ],
   "source": [
    "df_train, df_test = train_test_split(df_woe, test_size = 0.33, random_state = 42)\n",
    "\n",
    "woe = WeightofEvidenceEncoder()\n",
    "\n",
    "woe.fit(df_train, 'neighbourhood','expensive')\n",
    "df_train_woe = woe.transform(df_train, constant = 0.01)\n",
    "df_test_woe = woe.transform(df_test, constant = 0.01)\n",
    "\n",
    "df_test_woe"
   ]
  },
  {
   "cell_type": "markdown",
   "metadata": {
    "papermill": {
     "duration": 0.011796,
     "end_time": "2022-12-01T18:25:28.422688",
     "exception": false,
     "start_time": "2022-12-01T18:25:28.410892",
     "status": "completed"
    },
    "tags": []
   },
   "source": [
    "### Binning\n",
    "\n",
    "The last technique is called binning. This is where we take a continuous variable and bin them into different buckets, thus, transforming this continuous variable into a categorical variable:"
   ]
  },
  {
   "cell_type": "code",
   "execution_count": 25,
   "metadata": {
    "execution": {
     "iopub.execute_input": "2022-12-01T18:25:28.450233Z",
     "iopub.status.busy": "2022-12-01T18:25:28.449862Z",
     "iopub.status.idle": "2022-12-01T18:25:28.468935Z",
     "shell.execute_reply": "2022-12-01T18:25:28.467587Z"
    },
    "papermill": {
     "duration": 0.03615,
     "end_time": "2022-12-01T18:25:28.471701",
     "exception": false,
     "start_time": "2022-12-01T18:25:28.435551",
     "status": "completed"
    },
    "tags": []
   },
   "outputs": [
    {
     "data": {
      "text/plain": [
       "0          less_50\n",
       "1          less_50\n",
       "3         200_plus\n",
       "4          less_50\n",
       "5        50_to_100\n",
       "           ...    \n",
       "48782      less_50\n",
       "48790      less_50\n",
       "48799      less_50\n",
       "48805      less_50\n",
       "48852      less_50\n",
       "Name: number_of_reviews, Length: 38821, dtype: object"
      ]
     },
     "execution_count": 25,
     "metadata": {},
     "output_type": "execute_result"
    }
   ],
   "source": [
    "# df.loc[:,'last_review'] = df['last_review']\n",
    "\n",
    "def reviews_bin(x):\n",
    "    if x < 50:\n",
    "        return 'less_50'\n",
    "    if x >= 50 and x < 100:\n",
    "        return '50_to_100'\n",
    "    if x >= 100 and x < 150:\n",
    "        return '100_to_150'\n",
    "    if x >= 150 and x < 200:\n",
    "        return '150_to_200'\n",
    "    if x >= 200:\n",
    "        return '200_plus'\n",
    "    \n",
    "df['number_of_reviews'].map(reviews_bin)"
   ]
  },
  {
   "cell_type": "markdown",
   "metadata": {
    "papermill": {
     "duration": 0.012357,
     "end_time": "2022-12-01T18:25:28.496726",
     "exception": false,
     "start_time": "2022-12-01T18:25:28.484369",
     "status": "completed"
    },
    "tags": []
   },
   "source": [
    "## Comparison"
   ]
  },
  {
   "cell_type": "code",
   "execution_count": 26,
   "metadata": {
    "execution": {
     "iopub.execute_input": "2022-12-01T18:25:28.524598Z",
     "iopub.status.busy": "2022-12-01T18:25:28.524020Z",
     "iopub.status.idle": "2022-12-01T18:25:28.980218Z",
     "shell.execute_reply": "2022-12-01T18:25:28.979420Z"
    },
    "papermill": {
     "duration": 0.47299,
     "end_time": "2022-12-01T18:25:28.982518",
     "exception": false,
     "start_time": "2022-12-01T18:25:28.509528",
     "status": "completed"
    },
    "tags": []
   },
   "outputs": [
    {
     "data": {
      "text/plain": [
       "70.38943058456395"
      ]
     },
     "execution_count": 26,
     "metadata": {},
     "output_type": "execute_result"
    }
   ],
   "source": [
    "from sklearn.linear_model import LinearRegression\n",
    "from sklearn.metrics import mean_absolute_error\n",
    "\n",
    "## Multiple Hot Encoded Variable\n",
    "features = ['id', 'host_id', 'minimum_nights', 'number_of_reviews',\n",
    "       'calculated_host_listings_count', 'availability_365',\n",
    "'latitude', 'longitude', 'reviews_per_month'] + list(mult_cols)\n",
    "\n",
    "lr = LinearRegression()\n",
    "lr.fit(X_train_me[features], y_train_dummy)\n",
    "pred_single_me = lr.predict(X_test_me[features])\n",
    "\n",
    "multi_dummy_score = mean_absolute_error(pred_single_me, y_test_me)\n",
    "\n",
    "multi_dummy_score"
   ]
  },
  {
   "cell_type": "code",
   "execution_count": 27,
   "metadata": {
    "execution": {
     "iopub.execute_input": "2022-12-01T18:25:29.041396Z",
     "iopub.status.busy": "2022-12-01T18:25:29.040779Z",
     "iopub.status.idle": "2022-12-01T18:25:29.069799Z",
     "shell.execute_reply": "2022-12-01T18:25:29.068822Z"
    },
    "papermill": {
     "duration": 0.063815,
     "end_time": "2022-12-01T18:25:29.072169",
     "exception": false,
     "start_time": "2022-12-01T18:25:29.008354",
     "status": "completed"
    },
    "tags": []
   },
   "outputs": [
    {
     "data": {
      "text/plain": [
       "63.19185794926268"
      ]
     },
     "execution_count": 27,
     "metadata": {},
     "output_type": "execute_result"
    }
   ],
   "source": [
    "from sklearn.linear_model import LinearRegression\n",
    "\n",
    "\n",
    "features = ['id', 'host_id', 'minimum_nights', 'number_of_reviews',\n",
    "       'calculated_host_listings_count', 'availability_365',\n",
    "'latitude', 'longitude', 'reviews_per_month', 'room_type_ord_enc']\n",
    "\n",
    "## Ordinal Encoding\n",
    "lr = LinearRegression()\n",
    "lr.fit(X_train_ord[features], y_train_ord)\n",
    "pred_single_ord = lr.predict(X_test_ord[features])\n",
    "\n",
    "ord_score = mean_absolute_error(pred_single_ord, y_test_ord)\n",
    "\n",
    "ord_score"
   ]
  },
  {
   "cell_type": "code",
   "execution_count": 28,
   "metadata": {
    "execution": {
     "iopub.execute_input": "2022-12-01T18:25:29.136730Z",
     "iopub.status.busy": "2022-12-01T18:25:29.136360Z",
     "iopub.status.idle": "2022-12-01T18:25:29.164310Z",
     "shell.execute_reply": "2022-12-01T18:25:29.163600Z"
    },
    "papermill": {
     "duration": 0.060674,
     "end_time": "2022-12-01T18:25:29.166161",
     "exception": false,
     "start_time": "2022-12-01T18:25:29.105487",
     "status": "completed"
    },
    "tags": []
   },
   "outputs": [
    {
     "data": {
      "text/plain": [
       "77.84292568008051"
      ]
     },
     "execution_count": 28,
     "metadata": {},
     "output_type": "execute_result"
    }
   ],
   "source": [
    "## Frequency Encoding\n",
    "features = ['id', 'host_id', 'minimum_nights', 'number_of_reviews',\n",
    "       'calculated_host_listings_count', 'availability_365',\n",
    "'latitude', 'longitude', 'reviews_per_month', 'neighbourhood_freq']\n",
    "\n",
    "lr = LinearRegression()\n",
    "lr.fit(X_train_freq_enc[features], y_train)\n",
    "pred_freq_enc = lr.predict(X_test_freq_enc[features])\n",
    "\n",
    "freq_score = mean_absolute_error(pred_freq_enc, y_test)\n",
    "\n",
    "freq_score"
   ]
  },
  {
   "cell_type": "code",
   "execution_count": 29,
   "metadata": {
    "execution": {
     "iopub.execute_input": "2022-12-01T18:25:29.227187Z",
     "iopub.status.busy": "2022-12-01T18:25:29.226811Z",
     "iopub.status.idle": "2022-12-01T18:25:29.252954Z",
     "shell.execute_reply": "2022-12-01T18:25:29.252211Z"
    },
    "papermill": {
     "duration": 0.064227,
     "end_time": "2022-12-01T18:25:29.254903",
     "exception": false,
     "start_time": "2022-12-01T18:25:29.190676",
     "status": "completed"
    },
    "tags": []
   },
   "outputs": [
    {
     "data": {
      "text/plain": [
       "70.42050163360693"
      ]
     },
     "execution_count": 29,
     "metadata": {},
     "output_type": "execute_result"
    }
   ],
   "source": [
    "## Target Encoding\n",
    "features = ['id', 'host_id', 'minimum_nights', 'number_of_reviews',\n",
    "       'calculated_host_listings_count', 'availability_365',\n",
    "'latitude', 'longitude', 'reviews_per_month', 'neighbourhood_target_enc']\n",
    "\n",
    "lr = LinearRegression()\n",
    "lr.fit(X_train_te[features], y_train)\n",
    "pred_te_enc = lr.predict(X_test_te[features])\n",
    "\n",
    "te_score = mean_absolute_error(pred_te_enc, y_test)\n",
    "\n",
    "te_score"
   ]
  },
  {
   "cell_type": "code",
   "execution_count": 30,
   "metadata": {
    "execution": {
     "iopub.execute_input": "2022-12-01T18:25:29.313985Z",
     "iopub.status.busy": "2022-12-01T18:25:29.313387Z",
     "iopub.status.idle": "2022-12-01T18:25:29.377095Z",
     "shell.execute_reply": "2022-12-01T18:25:29.376347Z"
    },
    "papermill": {
     "duration": 0.099949,
     "end_time": "2022-12-01T18:25:29.378945",
     "exception": false,
     "start_time": "2022-12-01T18:25:29.278996",
     "status": "completed"
    },
    "tags": []
   },
   "outputs": [
    {
     "data": {
      "text/plain": [
       "0.7692607915072984"
      ]
     },
     "execution_count": 30,
     "metadata": {},
     "output_type": "execute_result"
    }
   ],
   "source": [
    "from sklearn.metrics import accuracy_score\n",
    "from sklearn.linear_model import LogisticRegression\n",
    "\n",
    "## Probability Ratio Encoding\n",
    "features = ['id', 'host_id', 'minimum_nights', 'number_of_reviews',\n",
    "       'calculated_host_listings_count', 'availability_365',\n",
    "'latitude', 'longitude', 'reviews_per_month', 'neighbourhood_prob_ratio']\n",
    "\n",
    "lr = LogisticRegression()\n",
    "\n",
    "X_train_pe = df_train_pe[features]\n",
    "y_train_pe = df_train_pe['expensive']\n",
    "\n",
    "X_test_pe = df_test_pe[features]\n",
    "y_test_pe = df_test_pe['expensive']\n",
    "\n",
    "lr.fit(X_train_pe[features], y_train_pe)\n",
    "pred_pe_enc = lr.predict(X_test_pe[features])\n",
    "\n",
    "pe_score = accuracy_score(pred_pe_enc, y_test_pe)\n",
    "\n",
    "pe_score"
   ]
  },
  {
   "cell_type": "code",
   "execution_count": 31,
   "metadata": {
    "execution": {
     "iopub.execute_input": "2022-12-01T18:25:29.413795Z",
     "iopub.status.busy": "2022-12-01T18:25:29.413443Z",
     "iopub.status.idle": "2022-12-01T18:25:29.474442Z",
     "shell.execute_reply": "2022-12-01T18:25:29.473715Z"
    },
    "papermill": {
     "duration": 0.080658,
     "end_time": "2022-12-01T18:25:29.476304",
     "exception": false,
     "start_time": "2022-12-01T18:25:29.395646",
     "status": "completed"
    },
    "tags": []
   },
   "outputs": [
    {
     "data": {
      "text/plain": [
       "0.7692607915072984"
      ]
     },
     "execution_count": 31,
     "metadata": {},
     "output_type": "execute_result"
    }
   ],
   "source": [
    "## Weight of Evidence\n",
    "features = ['id', 'host_id', 'minimum_nights', 'number_of_reviews',\n",
    "       'calculated_host_listings_count', 'availability_365',\n",
    "'latitude', 'longitude', 'reviews_per_month', 'neighbourhood_woe']\n",
    "\n",
    "lr = LogisticRegression()\n",
    "\n",
    "X_train_woe = df_train_woe[features]\n",
    "y_train_woe = df_train_woe['expensive']\n",
    "\n",
    "X_test_woe = df_test_woe[features]\n",
    "y_test_woe = df_test_woe['expensive']\n",
    "\n",
    "lr.fit(X_train_woe[features], y_train_woe)\n",
    "pred_woe_enc = lr.predict(X_test_woe[features])\n",
    "\n",
    "woe_score = accuracy_score(pred_woe_enc, y_test_woe)\n",
    "\n",
    "woe_score"
   ]
  },
  {
   "cell_type": "markdown",
   "metadata": {
    "papermill": {
     "duration": 0.016464,
     "end_time": "2022-12-01T18:25:29.509435",
     "exception": false,
     "start_time": "2022-12-01T18:25:29.492971",
     "status": "completed"
    },
    "tags": []
   },
   "source": [
    "## Summary\n",
    "\n",
    "In this section, you learned about a variety of categorical variable feature engineering techniques:\n",
    "\n",
    "- Hot Encoding\n",
    "\n",
    "- Ordinal Encoding\n",
    "\n",
    "- Target Encoding\n",
    "\n",
    "- Probability Ratio Encoding\n",
    "\n",
    "- Weight of Evidence Encoding\n",
    "\n",
    "- Binning"
   ]
  },
  {
   "cell_type": "markdown",
   "metadata": {
    "papermill": {
     "duration": 0.01613,
     "end_time": "2022-12-01T18:25:29.542246",
     "exception": false,
     "start_time": "2022-12-01T18:25:29.526116",
     "status": "completed"
    },
    "tags": []
   },
   "source": [
    "## External Resources\n",
    "- [All about Categorical Variable Encoding by Baijayanta Roy](https://towardsdatascience.com/all-about-categorical-variable-encoding-305f3361fd02)\n",
    "- [Ordinal and One-Hot Encodings for Categorical Data by Jason Brownlee](https://machinelearningmastery.com/one-hot-encoding-for-categorical-data/)\n",
    "- [Feature Engineering Ordinal Variables by Sheng Jun](https://towardsdatascience.com/feature-engineering-ordinal-variables-bfea697f5eee)\n",
    "- [Target Encoding by Ryan Holbrook](https://www.kaggle.com/code/ryanholbrook/target-encoding)\n",
    "- [Weight of Evidence Coding by Bruce Lund](https://www.mwsug.org/proceedings/2016/AA/MWSUG-2016-AA15.pdf)"
   ]
  },
  {
   "cell_type": "markdown",
   "metadata": {
    "papermill": {
     "duration": 0.017371,
     "end_time": "2022-12-01T18:25:29.575980",
     "exception": false,
     "start_time": "2022-12-01T18:25:29.558609",
     "status": "completed"
    },
    "tags": []
   },
   "source": [
    "## Related Course Workbooks - Machine Learning Process A-Z\n",
    "- [**Dealing with Missing Values - Section 5.1**](https://www.kaggle.com/code/kenjee/dealing-with-missing-values-section-5-1)\n",
    "- [**Dealing with Outliers - Section 5.2**](https://www.kaggle.com/code/kenjee/dealing-with-outliers-section-5-2)\n",
    "- [**Basic EDA Example - Section 6**](https://www.kaggle.com/code/kenjee/basic-eda-example-section-6)\n",
    "- [**Categorical Feature Engineering - Section 7.1**](https://www.kaggle.com/code/kenjee/categorical-feature-engineering-section-7-1)\n",
    "- [**Numeric Feature Engineering - Section 7.2**](https://www.kaggle.com/kenjee/numeric-feature-engineering-section-7-2)\n",
    "- [**Cross Validation Foundations - Section 8**](https://www.kaggle.com/code/kenjee/cross-validation-foundations-section-8)\n",
    "- [**Feature Selection - Section 9**](https://www.kaggle.com/code/kenjee/feature-selection-section-9)\n",
    "- [**Dealing with Imbalanced Data - Section 10**](https://www.kaggle.com/code/kenjee/dealing-with-imbalanced-data-section-10)\n",
    "- [**Model Building Example - Section 11**](https://www.kaggle.com/code/kenjee/model-building-example-section-11)\n",
    "- [**Model Evaluation (Classification) - Section 11**](https://www.kaggle.com/code/kenjee/model-evaluation-classification-section-12)\n",
    "- [**Model Evlauation (Regression) - Section 11**](https://www.kaggle.com/code/kenjee/model-evaluation-regression-12)"
   ]
  }
 ],
 "metadata": {
  "kernelspec": {
   "display_name": "Python 3",
   "language": "python",
   "name": "python3"
  },
  "language_info": {
   "codemirror_mode": {
    "name": "ipython",
    "version": 3
   },
   "file_extension": ".py",
   "mimetype": "text/x-python",
   "name": "python",
   "nbconvert_exporter": "python",
   "pygments_lexer": "ipython3",
   "version": "3.8.15"
  },
  "papermill": {
   "default_parameters": {},
   "duration": 12.674742,
   "end_time": "2022-12-01T18:25:30.314874",
   "environment_variables": {},
   "exception": null,
   "input_path": "__notebook__.ipynb",
   "output_path": "__notebook__.ipynb",
   "parameters": {},
   "start_time": "2022-12-01T18:25:17.640132",
   "version": "2.3.4"
  }
 },
 "nbformat": 4,
 "nbformat_minor": 5
}
